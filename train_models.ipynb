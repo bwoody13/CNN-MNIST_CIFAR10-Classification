{
  "nbformat": 4,
  "nbformat_minor": 0,
  "metadata": {
    "colab": {
      "provenance": [],
      "collapsed_sections": [
        "GF8Vgcpra1Ld",
        "hY-u5crfbBKD"
      ],
      "toc_visible": true,
      "authorship_tag": "ABX9TyPGYWmLlItgTRFSqc9cbGTO",
      "include_colab_link": true
    },
    "kernelspec": {
      "name": "python3",
      "display_name": "Python 3"
    },
    "language_info": {
      "name": "python"
    }
  },
  "cells": [
    {
      "cell_type": "markdown",
      "metadata": {
        "id": "view-in-github",
        "colab_type": "text"
      },
      "source": [
        "<a href=\"https://colab.research.google.com/github/bwoody13/CNN-MNIST_CIFAR10-Classification/blob/main/train_models.ipynb\" target=\"_parent\"><img src=\"https://colab.research.google.com/assets/colab-badge.svg\" alt=\"Open In Colab\"/></a>"
      ]
    },
    {
      "cell_type": "markdown",
      "source": [
        "# Initialize Notebook\n",
        "Make sure to select GPU runtime if you want to train on GPU"
      ],
      "metadata": {
        "id": "bliF9kBNasd3"
      }
    },
    {
      "cell_type": "markdown",
      "source": [
        "## Clone and Pull Git Repository"
      ],
      "metadata": {
        "id": "JJL-RguHbQgw"
      }
    },
    {
      "cell_type": "code",
      "execution_count": 1,
      "metadata": {
        "colab": {
          "base_uri": "https://localhost:8080/"
        },
        "id": "lbTF6qqBZieI",
        "outputId": "36d3e9dc-ef6f-44ae-9b1f-e22cbcda2c9e"
      },
      "outputs": [
        {
          "output_type": "stream",
          "name": "stdout",
          "text": [
            "Cloning into 'CNN-MNIST_CIFAR10-Classification'...\n",
            "remote: Enumerating objects: 42, done.\u001b[K\n",
            "remote: Counting objects: 100% (42/42), done.\u001b[K\n",
            "remote: Compressing objects: 100% (28/28), done.\u001b[K\n",
            "remote: Total 42 (delta 12), reused 39 (delta 12), pack-reused 0\u001b[K\n",
            "Receiving objects: 100% (42/42), 17.45 MiB | 26.16 MiB/s, done.\n",
            "Resolving deltas: 100% (12/12), done.\n",
            "/content/CNN-MNIST_CIFAR10-Classification\n"
          ]
        }
      ],
      "source": [
        "!git clone https://github.com/bwoody13/CNN-MNIST_CIFAR10-Classification.git\n",
        "%cd CNN-MNIST_CIFAR10-Classification"
      ]
    },
    {
      "cell_type": "markdown",
      "source": [
        "Pull anytime repo udpated and want to have new code here"
      ],
      "metadata": {
        "id": "d9y9y-egbVWd"
      }
    },
    {
      "cell_type": "code",
      "source": [
        "!git pull origin main"
      ],
      "metadata": {
        "colab": {
          "base_uri": "https://localhost:8080/"
        },
        "id": "swa6gE84aIy2",
        "outputId": "6e2ee690-1dd5-4fb9-cd09-adf10b6e707c"
      },
      "execution_count": 15,
      "outputs": [
        {
          "output_type": "stream",
          "name": "stdout",
          "text": [
            "remote: Enumerating objects: 17, done.\u001b[K\n",
            "remote: Counting objects:   5% (1/17)\u001b[K\rremote: Counting objects:  11% (2/17)\u001b[K\rremote: Counting objects:  17% (3/17)\u001b[K\rremote: Counting objects:  23% (4/17)\u001b[K\rremote: Counting objects:  29% (5/17)\u001b[K\rremote: Counting objects:  35% (6/17)\u001b[K\rremote: Counting objects:  41% (7/17)\u001b[K\rremote: Counting objects:  47% (8/17)\u001b[K\rremote: Counting objects:  52% (9/17)\u001b[K\rremote: Counting objects:  58% (10/17)\u001b[K\rremote: Counting objects:  64% (11/17)\u001b[K\rremote: Counting objects:  70% (12/17)\u001b[K\rremote: Counting objects:  76% (13/17)\u001b[K\rremote: Counting objects:  82% (14/17)\u001b[K\rremote: Counting objects:  88% (15/17)\u001b[K\rremote: Counting objects:  94% (16/17)\u001b[K\rremote: Counting objects: 100% (17/17)\u001b[K\rremote: Counting objects: 100% (17/17), done.\u001b[K\n",
            "remote: Compressing objects:  33% (1/3)\u001b[K\rremote: Compressing objects:  66% (2/3)\u001b[K\rremote: Compressing objects: 100% (3/3)\u001b[K\rremote: Compressing objects: 100% (3/3), done.\u001b[K\n",
            "remote: Total 9 (delta 6), reused 9 (delta 6), pack-reused 0\u001b[K\n",
            "Unpacking objects:  11% (1/9)\rUnpacking objects:  22% (2/9)\rUnpacking objects:  33% (3/9)\rUnpacking objects:  44% (4/9)\rUnpacking objects:  55% (5/9)\rUnpacking objects:  66% (6/9)\rUnpacking objects:  77% (7/9)\rUnpacking objects:  88% (8/9)\rUnpacking objects: 100% (9/9)\rUnpacking objects: 100% (9/9), 896 bytes | 448.00 KiB/s, done.\n",
            "From https://github.com/bwoody13/CNN-MNIST_CIFAR10-Classification\n",
            " * branch            main       -> FETCH_HEAD\n",
            "   293f11a..1339063  main       -> origin/main\n",
            "Updating 293f11a..1339063\n",
            "Fast-forward\n",
            " CIFAR10/cifar10_cnn.py | 2 \u001b[32m+\u001b[m\u001b[31m-\u001b[m\n",
            " MNIST/mnist_cnn.py     | 2 \u001b[32m+\u001b[m\u001b[31m-\u001b[m\n",
            " base_cnn.py            | 4 \u001b[32m+\u001b[m\u001b[31m---\u001b[m\n",
            " save_load.py           | 3 \u001b[32m+++\u001b[m\n",
            " train_test.py          | 1 \u001b[31m-\u001b[m\n",
            " 5 files changed, 6 insertions(+), 6 deletions(-)\n"
          ]
        }
      ]
    },
    {
      "cell_type": "code",
      "source": [
        "!pwd"
      ],
      "metadata": {
        "colab": {
          "base_uri": "https://localhost:8080/"
        },
        "id": "1yNNQ5fcqCVt",
        "outputId": "faaf6bdf-59ca-484c-9ea9-1f02c2a2092f"
      },
      "execution_count": 16,
      "outputs": [
        {
          "output_type": "stream",
          "name": "stdout",
          "text": [
            "/content/CNN-MNIST_CIFAR10-Classification\n"
          ]
        }
      ]
    },
    {
      "cell_type": "markdown",
      "source": [
        "## Import Necessary Libraries"
      ],
      "metadata": {
        "id": "YlZ3JMOFbdY2"
      }
    },
    {
      "cell_type": "code",
      "source": [
        "# External\n",
        "import torch\n",
        "from torchvision.datasets import MNIST, CIFAR10\n",
        "from torchvision import transforms\n",
        "from torchvision.transforms import ToTensor, Normalize\n",
        "from torch.utils.data.dataloader import DataLoader\n",
        "from torch.utils.data import random_split\n",
        "import numpy as np\n",
        "import matplotlib.pyplot as plt\n",
        "\n",
        "# Internal\n",
        "from MNIST.mnist_cnn import MNISTCNN\n",
        "from CIFAR10.cifar10_cnn import CIFAR10CNN\n",
        "# from base_cnn import BaseCNN\n",
        "from train_test import train, test\n",
        "from save_load import save_model, MNIST_type, CIFAR10_type"
      ],
      "metadata": {
        "id": "GQ2ZKSmRbc0H"
      },
      "execution_count": 42,
      "outputs": []
    },
    {
      "cell_type": "markdown",
      "source": [
        "# MNIST Training"
      ],
      "metadata": {
        "id": "xlT16peOazWH"
      }
    },
    {
      "cell_type": "markdown",
      "source": [
        "## Load and Prep Datasets for Training"
      ],
      "metadata": {
        "id": "GF8Vgcpra1Ld"
      }
    },
    {
      "cell_type": "code",
      "source": [
        "data_mean = 0.1307\n",
        "data_std = 0.3081\n",
        "init_trans = transforms.Compose([\n",
        "    ToTensor(),\n",
        "    Normalize((data_mean,), (data_std,))\n",
        "])\n",
        "dataset = MNIST(root='data/', train=True, download=True, transform=init_trans)\n",
        "test_ds = MNIST(root='data/', train=False, download=True, transform=init_trans)\n",
        "val_size = int(0.1 * len(dataset))\n",
        "train_size = len(dataset) - val_size\n",
        "train_dataset, val_dataset = random_split(dataset, [train_size, val_size])"
      ],
      "metadata": {
        "id": "Q303exYsaQdi",
        "colab": {
          "base_uri": "https://localhost:8080/"
        },
        "outputId": "ec0e2743-de2a-44f8-be91-440a5b36ba2b"
      },
      "execution_count": 5,
      "outputs": [
        {
          "output_type": "stream",
          "name": "stdout",
          "text": [
            "Downloading http://yann.lecun.com/exdb/mnist/train-images-idx3-ubyte.gz\n",
            "Downloading http://yann.lecun.com/exdb/mnist/train-images-idx3-ubyte.gz to data/MNIST/raw/train-images-idx3-ubyte.gz\n"
          ]
        },
        {
          "output_type": "stream",
          "name": "stderr",
          "text": [
            "100%|██████████| 9912422/9912422 [00:00<00:00, 117607970.46it/s]\n"
          ]
        },
        {
          "output_type": "stream",
          "name": "stdout",
          "text": [
            "Extracting data/MNIST/raw/train-images-idx3-ubyte.gz to data/MNIST/raw\n",
            "\n",
            "Downloading http://yann.lecun.com/exdb/mnist/train-labels-idx1-ubyte.gz\n",
            "Downloading http://yann.lecun.com/exdb/mnist/train-labels-idx1-ubyte.gz to data/MNIST/raw/train-labels-idx1-ubyte.gz\n"
          ]
        },
        {
          "output_type": "stream",
          "name": "stderr",
          "text": [
            "100%|██████████| 28881/28881 [00:00<00:00, 70427728.97it/s]\n"
          ]
        },
        {
          "output_type": "stream",
          "name": "stdout",
          "text": [
            "Extracting data/MNIST/raw/train-labels-idx1-ubyte.gz to data/MNIST/raw\n",
            "\n",
            "Downloading http://yann.lecun.com/exdb/mnist/t10k-images-idx3-ubyte.gz\n",
            "Downloading http://yann.lecun.com/exdb/mnist/t10k-images-idx3-ubyte.gz to data/MNIST/raw/t10k-images-idx3-ubyte.gz\n"
          ]
        },
        {
          "output_type": "stream",
          "name": "stderr",
          "text": [
            "100%|██████████| 1648877/1648877 [00:00<00:00, 142305220.20it/s]"
          ]
        },
        {
          "output_type": "stream",
          "name": "stdout",
          "text": [
            "Extracting data/MNIST/raw/t10k-images-idx3-ubyte.gz to data/MNIST/raw\n"
          ]
        },
        {
          "output_type": "stream",
          "name": "stderr",
          "text": [
            "\n"
          ]
        },
        {
          "output_type": "stream",
          "name": "stdout",
          "text": [
            "\n",
            "Downloading http://yann.lecun.com/exdb/mnist/t10k-labels-idx1-ubyte.gz\n",
            "Downloading http://yann.lecun.com/exdb/mnist/t10k-labels-idx1-ubyte.gz to data/MNIST/raw/t10k-labels-idx1-ubyte.gz\n"
          ]
        },
        {
          "output_type": "stream",
          "name": "stderr",
          "text": [
            "100%|██████████| 4542/4542 [00:00<00:00, 6635502.88it/s]\n"
          ]
        },
        {
          "output_type": "stream",
          "name": "stdout",
          "text": [
            "Extracting data/MNIST/raw/t10k-labels-idx1-ubyte.gz to data/MNIST/raw\n",
            "\n"
          ]
        }
      ]
    },
    {
      "cell_type": "markdown",
      "source": [
        "## Visualize Data"
      ],
      "metadata": {
        "id": "hY-u5crfbBKD"
      }
    },
    {
      "cell_type": "code",
      "source": [
        "examples = enumerate(DataLoader(dataset, 32, shuffle=True))\n",
        "batch_idx, (example_data, example_targets) = next(examples)\n",
        "print(example_data.shape)\n",
        "fig = plt.figure()\n",
        "for i in range(12):\n",
        "  plt.subplot(3, 4, i+1)\n",
        "  plt.tight_layout()\n",
        "  plt.imshow(example_data[i][0], cmap='gray', interpolation='none')\n",
        "  plt.title(\"Label: {}\".format(example_targets[i]))\n",
        "  plt.xticks([])\n",
        "  plt.yticks([])\n",
        "\n",
        "plt.show()"
      ],
      "metadata": {
        "colab": {
          "base_uri": "https://localhost:8080/",
          "height": 480
        },
        "id": "vKb8piLYbC_i",
        "outputId": "530d3dbd-1770-4d1b-9cdc-6a481f3e3b30"
      },
      "execution_count": 75,
      "outputs": [
        {
          "output_type": "stream",
          "name": "stdout",
          "text": [
            "torch.Size([32, 1, 28, 28])\n"
          ]
        },
        {
          "output_type": "display_data",
          "data": {
            "text/plain": [
              "<Figure size 640x480 with 12 Axes>"
            ],
            "image/png": "[encoded data removed]"
          },
          "metadata": {}
        }
      ]
    },
    {
      "cell_type": "markdown",
      "source": [
        "## Initialize CNN Model"
      ],
      "metadata": {
        "id": "SbHMuqx2b4xA"
      }
    },
    {
      "cell_type": "code",
      "source": [
        "print(torch.cuda.is_available())\n",
        "model = MNISTCNN(momentum=0.9, learning_rate=0.01, weight_decay=1e-5)\n",
        "print(model.device)"
      ],
      "metadata": {
        "colab": {
          "base_uri": "https://localhost:8080/"
        },
        "id": "TRi7jaAMb7Nd",
        "outputId": "f20d9b89-732c-47be-91c6-951282cbcc7c"
      },
      "execution_count": 19,
      "outputs": [
        {
          "output_type": "stream",
          "name": "stdout",
          "text": [
            "False\n",
            "cpu\n",
            "cpu\n",
            "cpu\n"
          ]
        }
      ]
    },
    {
      "cell_type": "markdown",
      "source": [
        "## Create DataLoaders according to model"
      ],
      "metadata": {
        "id": "VoP4SkBFb_qW"
      }
    },
    {
      "cell_type": "code",
      "source": [
        "num_workers = 2 if 'cuda' in model.device.type else 0\n",
        "pin_memory = True if 'cuda' in model.device.type else False\n",
        "\n",
        "train_loader = DataLoader(train_dataset, model.batch_size, shuffle=True, num_workers=num_workers, pin_memory=pin_memory)\n",
        "val_loader = DataLoader(val_dataset, model.batch_size, num_workers=num_workers, pin_memory=pin_memory)\n",
        "test_loader = DataLoader(test_ds, model.batch_size, num_workers=num_workers, pin_memory=pin_memory)"
      ],
      "metadata": {
        "id": "5wg6lnDgcG_u"
      },
      "execution_count": 12,
      "outputs": []
    },
    {
      "cell_type": "markdown",
      "source": [
        "## Train the Model"
      ],
      "metadata": {
        "id": "8Q0hfcHccKux"
      }
    },
    {
      "cell_type": "code",
      "source": [
        "train(model, train_loader, val_loader)"
      ],
      "metadata": {
        "id": "E9OxZ2-VcMTc",
        "colab": {
          "base_uri": "https://localhost:8080/",
          "height": 1000
        },
        "outputId": "99e3164f-387e-4f1e-bc42-1feac50e0994"
      },
      "execution_count": 14,
      "outputs": [
        {
          "output_type": "stream",
          "name": "stdout",
          "text": [
            "Epoch 1, Batch 100, Loss: 1.0353\n",
            "Epoch 1, Batch 200, Loss: 0.2794\n",
            "Epoch 1, Batch 300, Loss: 0.2007\n",
            "Epoch 1, Batch 400, Loss: 0.1842\n",
            "Epoch 1, Batch 500, Loss: 0.1528\n",
            "Epoch 1, Batch 600, Loss: 0.1348\n",
            "Epoch 1, Batch 700, Loss: 0.1112\n",
            "Epoch 1, Batch 800, Loss: 0.1035\n",
            "Validation Loss: 0.0742, Validation Accuracy: 97.67%\n",
            "Epoch 2, Batch 100, Loss: 0.0959\n",
            "Epoch 2, Batch 200, Loss: 0.0832\n",
            "Epoch 2, Batch 300, Loss: 0.0730\n",
            "Epoch 2, Batch 400, Loss: 0.0906\n",
            "Epoch 2, Batch 500, Loss: 0.0918\n",
            "Epoch 2, Batch 600, Loss: 0.0883\n",
            "Epoch 2, Batch 700, Loss: 0.0838\n",
            "Epoch 2, Batch 800, Loss: 0.0635\n",
            "Validation Loss: 0.0516, Validation Accuracy: 98.32%\n",
            "Epoch 3, Batch 100, Loss: 0.0616\n",
            "Epoch 3, Batch 200, Loss: 0.0693\n",
            "Epoch 3, Batch 300, Loss: 0.0645\n",
            "Epoch 3, Batch 400, Loss: 0.0564\n",
            "Epoch 3, Batch 500, Loss: 0.0628\n",
            "Epoch 3, Batch 600, Loss: 0.0641\n",
            "Epoch 3, Batch 700, Loss: 0.0528\n",
            "Epoch 3, Batch 800, Loss: 0.0629\n",
            "Validation Loss: 0.0468, Validation Accuracy: 98.57%\n",
            "Epoch 4, Batch 100, Loss: 0.0537\n",
            "Epoch 4, Batch 200, Loss: 0.0497\n",
            "Epoch 4, Batch 300, Loss: 0.0543\n",
            "Epoch 4, Batch 400, Loss: 0.0514\n",
            "Epoch 4, Batch 500, Loss: 0.0483\n",
            "Epoch 4, Batch 600, Loss: 0.0452\n",
            "Epoch 4, Batch 700, Loss: 0.0493\n",
            "Epoch 4, Batch 800, Loss: 0.0467\n",
            "Validation Loss: 0.0368, Validation Accuracy: 98.75%\n",
            "Epoch 5, Batch 100, Loss: 0.0372\n",
            "Epoch 5, Batch 200, Loss: 0.0447\n",
            "Epoch 5, Batch 300, Loss: 0.0422\n",
            "Epoch 5, Batch 400, Loss: 0.0359\n",
            "Epoch 5, Batch 500, Loss: 0.0463\n",
            "Epoch 5, Batch 600, Loss: 0.0496\n",
            "Epoch 5, Batch 700, Loss: 0.0432\n",
            "Epoch 5, Batch 800, Loss: 0.0432\n",
            "Validation Loss: 0.0359, Validation Accuracy: 98.72%\n",
            "Epoch 6, Batch 100, Loss: 0.0293\n",
            "Epoch 6, Batch 200, Loss: 0.0373\n",
            "Epoch 6, Batch 300, Loss: 0.0383\n",
            "Epoch 6, Batch 400, Loss: 0.0304\n",
            "Epoch 6, Batch 500, Loss: 0.0383\n",
            "Epoch 6, Batch 600, Loss: 0.0342\n",
            "Epoch 6, Batch 700, Loss: 0.0422\n",
            "Epoch 6, Batch 800, Loss: 0.0373\n",
            "Validation Loss: 0.0324, Validation Accuracy: 98.92%\n",
            "Epoch 7, Batch 100, Loss: 0.0268\n",
            "Epoch 7, Batch 200, Loss: 0.0347\n",
            "Epoch 7, Batch 300, Loss: 0.0349\n",
            "Epoch 7, Batch 400, Loss: 0.0288\n",
            "Epoch 7, Batch 500, Loss: 0.0319\n",
            "Epoch 7, Batch 600, Loss: 0.0331\n",
            "Epoch 7, Batch 700, Loss: 0.0311\n",
            "Epoch 7, Batch 800, Loss: 0.0339\n",
            "Validation Loss: 0.0344, Validation Accuracy: 98.95%\n",
            "Epoch 8, Batch 100, Loss: 0.0322\n",
            "Epoch 8, Batch 200, Loss: 0.0287\n",
            "Epoch 8, Batch 300, Loss: 0.0270\n",
            "Epoch 8, Batch 400, Loss: 0.0274\n",
            "Epoch 8, Batch 500, Loss: 0.0356\n",
            "Epoch 8, Batch 600, Loss: 0.0281\n",
            "Epoch 8, Batch 700, Loss: 0.0319\n",
            "Epoch 8, Batch 800, Loss: 0.0342\n",
            "Validation Loss: 0.0330, Validation Accuracy: 98.93%\n",
            "Epoch 9, Batch 100, Loss: 0.0247\n",
            "Epoch 9, Batch 200, Loss: 0.0257\n",
            "Epoch 9, Batch 300, Loss: 0.0256\n",
            "Epoch 9, Batch 400, Loss: 0.0268\n",
            "Epoch 9, Batch 500, Loss: 0.0262\n",
            "Epoch 9, Batch 600, Loss: 0.0237\n",
            "Epoch 9, Batch 700, Loss: 0.0209\n",
            "Epoch 9, Batch 800, Loss: 0.0362\n",
            "Validation Loss: 0.0368, Validation Accuracy: 98.85%\n",
            "Epoch 10, Batch 100, Loss: 0.0228\n",
            "Epoch 10, Batch 200, Loss: 0.0220\n",
            "Epoch 10, Batch 300, Loss: 0.0207\n",
            "Epoch 10, Batch 400, Loss: 0.0210\n",
            "Epoch 10, Batch 500, Loss: 0.0241\n",
            "Epoch 10, Batch 600, Loss: 0.0230\n",
            "Epoch 10, Batch 700, Loss: 0.0240\n",
            "Epoch 10, Batch 800, Loss: 0.0229\n",
            "Validation Loss: 0.0303, Validation Accuracy: 99.03%\n"
          ]
        },
        {
          "output_type": "display_data",
          "data": {
            "text/plain": [
              "<Figure size 640x480 with 1 Axes>"
            ],
            "image/png": "[encoded data removed]"
          },
          "metadata": {}
        }
      ]
    },
    {
      "cell_type": "markdown",
      "source": [
        "## Test Model"
      ],
      "metadata": {
        "id": "quBLoqSx0jJl"
      }
    },
    {
      "cell_type": "code",
      "source": [
        "# Train Dataset\n",
        "test(model, train_loader)"
      ],
      "metadata": {
        "colab": {
          "base_uri": "https://localhost:8080/",
          "height": 194
        },
        "id": "Mb5bqBJf0rd3",
        "outputId": "03ec5f0b-1823-4a2e-bb63-ef4c924315f2"
      },
      "execution_count": 39,
      "outputs": [
        {
          "output_type": "error",
          "ename": "TypeError",
          "evalue": "ignored",
          "traceback": [
            "\u001b[0;31m---------------------------------------------------------------------------\u001b[0m",
            "\u001b[0;31mTypeError\u001b[0m                                 Traceback (most recent call last)",
            "\u001b[0;32m<ipython-input-39-48fbaca7a014>\u001b[0m in \u001b[0;36m<cell line: 2>\u001b[0;34m()\u001b[0m\n\u001b[1;32m      1\u001b[0m \u001b[0;31m# Train Dataset\u001b[0m\u001b[0;34m\u001b[0m\u001b[0;34m\u001b[0m\u001b[0m\n\u001b[0;32m----> 2\u001b[0;31m \u001b[0mtest\u001b[0m\u001b[0;34m(\u001b[0m\u001b[0mmodel\u001b[0m\u001b[0;34m,\u001b[0m \u001b[0mtrain_loader\u001b[0m\u001b[0;34m)\u001b[0m\u001b[0;34m\u001b[0m\u001b[0;34m\u001b[0m\u001b[0m\n\u001b[0m",
            "\u001b[0;31mTypeError\u001b[0m: test() missing 1 required positional argument: 'classes'"
          ]
        }
      ]
    },
    {
      "cell_type": "code",
      "source": [
        "# Test Dataset\n",
        "test(model, test_loader)"
      ],
      "metadata": {
        "id": "Gmp0UrnR0mu4"
      },
      "execution_count": null,
      "outputs": []
    },
    {
      "cell_type": "markdown",
      "source": [
        "## Save Model (Need to move to repo manually)"
      ],
      "metadata": {
        "id": "nOHh4XRtrPyj"
      }
    },
    {
      "cell_type": "code",
      "source": [
        "save_model(model, \"first_trained_model\", MNIST_type)"
      ],
      "metadata": {
        "id": "b08BulHosDjM"
      },
      "execution_count": 21,
      "outputs": []
    },
    {
      "cell_type": "markdown",
      "source": [
        "# CIFAR10 Training"
      ],
      "metadata": {
        "id": "0Ul8K6ir0PxV"
      }
    },
    {
      "cell_type": "markdown",
      "source": [
        "## Load and Prep Datasets for Training"
      ],
      "metadata": {
        "id": "0KU2AUEd1V3g"
      }
    },
    {
      "cell_type": "code",
      "source": [
        "init_trans = transforms.Compose([\n",
        "    ToTensor(),\n",
        "    Normalize((0.5,0.5, 0.5), (0.5, 0.5, 0.5))\n",
        "])\n",
        "dataset = CIFAR10(root='data/', train=True, download=True, transform=init_trans)\n",
        "test_ds = CIFAR10(root='data/', train=False, download=True, transform=init_trans)\n",
        "val_size = int(0.1 * len(dataset))\n",
        "train_size = len(dataset) - val_size\n",
        "train_dataset, val_dataset = random_split(dataset, [train_size, val_size])"
      ],
      "metadata": {
        "colab": {
          "base_uri": "https://localhost:8080/"
        },
        "outputId": "144b2fbf-7ae0-45ab-b49c-279eb163c0a5",
        "id": "_zNFzBKC1V3h"
      },
      "execution_count": 40,
      "outputs": [
        {
          "output_type": "stream",
          "name": "stdout",
          "text": [
            "Downloading https://www.cs.toronto.edu/~kriz/cifar-10-python.tar.gz to data/cifar-10-python.tar.gz\n"
          ]
        },
        {
          "output_type": "stream",
          "name": "stderr",
          "text": [
            "100%|██████████| 170498071/170498071 [00:02<00:00, 76788619.46it/s]\n"
          ]
        },
        {
          "output_type": "stream",
          "name": "stdout",
          "text": [
            "Extracting data/cifar-10-python.tar.gz to data/\n",
            "Files already downloaded and verified\n"
          ]
        }
      ]
    },
    {
      "cell_type": "markdown",
      "source": [
        "## Visualize Data"
      ],
      "metadata": {
        "id": "M5JBwxNq1V3j"
      }
    },
    {
      "cell_type": "code",
      "source": [
        "classes = ('plane', 'car', 'bird', 'cat', 'deer', 'dog', 'frog', 'horse', 'ship', 'truck')\n",
        "examples = enumerate(DataLoader(dataset, 16, shuffle=True))\n",
        "batch_idx, (example_data, example_targets) = next(examples)\n",
        "print(example_data.shape)\n",
        "fig = plt.figure()\n",
        "for i in range(12):\n",
        "    plt.subplot(3, 4, i+1)\n",
        "    plt.tight_layout()\n",
        "    # Unnoramlize image and transpose (inputs are channel, height, width)\n",
        "    image = example_data[i] * 0.5 + 0.5\n",
        "    image = np.transpose(image, (1, 2, 0))\n",
        "    plt.imshow(image)\n",
        "    plt.title(f\"Label: {classes[example_targets[i]]}\")\n",
        "    plt.xticks([])\n",
        "    plt.yticks([])\n",
        "\n",
        "plt.show()"
      ],
      "metadata": {
        "colab": {
          "base_uri": "https://localhost:8080/",
          "height": 480
        },
        "outputId": "a3d9a3a7-a864-405b-d2c2-e2df40923e7f",
        "id": "QSKvTjm31V3j"
      },
      "execution_count": 44,
      "outputs": [
        {
          "output_type": "stream",
          "name": "stdout",
          "text": [
            "torch.Size([16, 3, 32, 32])\n"
          ]
        },
        {
          "output_type": "display_data",
          "data": {
            "text/plain": [
              "<Figure size 640x480 with 12 Axes>"
            ],
            "image/png": "[encoded data removed]"
          },
          "metadata": {}
        }
      ]
    },
    {
      "cell_type": "markdown",
      "source": [
        "## Initialize CNN Model"
      ],
      "metadata": {
        "id": "wkvwOjRD1V3k"
      }
    },
    {
      "cell_type": "code",
      "source": [
        "print(torch.cuda.is_available())\n",
        "model = CIFAR10CNN(momentum=0.9, learning_rate=0.1, epochs=1, weight_decay=1e-4, batch_size=128)\n",
        "print(model.device)"
      ],
      "metadata": {
        "colab": {
          "base_uri": "https://localhost:8080/"
        },
        "outputId": "3b2b77bc-2ae3-4e2c-8ebb-ceebe41cc027",
        "id": "wdHbe3U-1V3k"
      },
      "execution_count": 47,
      "outputs": [
        {
          "output_type": "stream",
          "name": "stdout",
          "text": [
            "False\n",
            "cpu\n"
          ]
        }
      ]
    },
    {
      "cell_type": "markdown",
      "source": [
        "## Create DataLoaders according to model"
      ],
      "metadata": {
        "id": "YwisRoz31V3l"
      }
    },
    {
      "cell_type": "code",
      "source": [
        "num_workers = 2 if 'cuda' in model.device.type else 0\n",
        "pin_memory = True if 'cuda' in model.device.type else False\n",
        "\n",
        "train_loader = DataLoader(train_dataset, model.batch_size, shuffle=True, num_workers=num_workers, pin_memory=pin_memory)\n",
        "val_loader = DataLoader(val_dataset, model.batch_size, num_workers=num_workers, pin_memory=pin_memory)\n",
        "test_loader = DataLoader(test_ds, model.batch_size, num_workers=num_workers, pin_memory=pin_memory)"
      ],
      "metadata": {
        "id": "jkvoizAG1V3l"
      },
      "execution_count": 46,
      "outputs": []
    },
    {
      "cell_type": "markdown",
      "source": [
        "## Train the Model"
      ],
      "metadata": {
        "id": "04eYSAGm1V3l"
      }
    },
    {
      "cell_type": "code",
      "source": [
        "train(model, train_loader, val_loader)"
      ],
      "metadata": {
        "colab": {
          "base_uri": "https://localhost:8080/"
        },
        "outputId": "5ff0ea66-fe44-4fe0-c9eb-03af885c2ed6",
        "id": "H3HgnyDo1V3l"
      },
      "execution_count": null,
      "outputs": [
        {
          "output_type": "stream",
          "name": "stdout",
          "text": [
            "Epoch 1, Batch 100, Loss: 1.8554\n"
          ]
        }
      ]
    },
    {
      "cell_type": "markdown",
      "source": [
        "## Test Model"
      ],
      "metadata": {
        "id": "FxcgbLxx1V3m"
      }
    },
    {
      "cell_type": "code",
      "source": [
        "# Train Dataset\n",
        "test(model, train_loader)"
      ],
      "metadata": {
        "colab": {
          "base_uri": "https://localhost:8080/",
          "height": 194
        },
        "outputId": "03ec5f0b-1823-4a2e-bb63-ef4c924315f2",
        "id": "MiRVrgze1V3m"
      },
      "execution_count": null,
      "outputs": [
        {
          "output_type": "error",
          "ename": "TypeError",
          "evalue": "ignored",
          "traceback": [
            "\u001b[0;31m---------------------------------------------------------------------------\u001b[0m",
            "\u001b[0;31mTypeError\u001b[0m                                 Traceback (most recent call last)",
            "\u001b[0;32m<ipython-input-39-48fbaca7a014>\u001b[0m in \u001b[0;36m<cell line: 2>\u001b[0;34m()\u001b[0m\n\u001b[1;32m      1\u001b[0m \u001b[0;31m# Train Dataset\u001b[0m\u001b[0;34m\u001b[0m\u001b[0;34m\u001b[0m\u001b[0m\n\u001b[0;32m----> 2\u001b[0;31m \u001b[0mtest\u001b[0m\u001b[0;34m(\u001b[0m\u001b[0mmodel\u001b[0m\u001b[0;34m,\u001b[0m \u001b[0mtrain_loader\u001b[0m\u001b[0;34m)\u001b[0m\u001b[0;34m\u001b[0m\u001b[0;34m\u001b[0m\u001b[0m\n\u001b[0m",
            "\u001b[0;31mTypeError\u001b[0m: test() missing 1 required positional argument: 'classes'"
          ]
        }
      ]
    },
    {
      "cell_type": "code",
      "source": [
        "# Test Dataset\n",
        "test(model, test_loader)"
      ],
      "metadata": {
        "id": "NFfAUVv01V3m"
      },
      "execution_count": null,
      "outputs": []
    },
    {
      "cell_type": "markdown",
      "source": [
        "## Save Model (Need to move to repo manually)"
      ],
      "metadata": {
        "id": "nuTWksjL1V3n"
      }
    },
    {
      "cell_type": "code",
      "source": [
        "save_model(model, \"first_trained_model\", CIFAR10_type)"
      ],
      "metadata": {
        "id": "jDtMEM9V1V3n"
      },
      "execution_count": null,
      "outputs": []
    }
  ]
}