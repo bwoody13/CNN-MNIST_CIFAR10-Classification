{
  "cells": [
    {
      "cell_type": "markdown",
      "metadata": {
        "id": "view-in-github",
        "colab_type": "text"
      },
      "source": [
        "<a href=\"https://colab.research.google.com/github/bwoody13/CNN-MNIST_CIFAR10-Classification/blob/main/train_models.ipynb\" target=\"_parent\"><img src=\"https://colab.research.google.com/assets/colab-badge.svg\" alt=\"Open In Colab\"/></a>"
      ]
    },
    {
      "cell_type": "markdown",
      "metadata": {
        "id": "bliF9kBNasd3"
      },
      "source": [
        "# Initialize Notebook\n",
        "Make sure to select GPU runtime if you want to train on GPU"
      ]
    },
    {
      "cell_type": "markdown",
      "metadata": {
        "id": "JJL-RguHbQgw"
      },
      "source": [
        "## Clone and Pull Git Repository (Only if using in Colab - recommended for training and to use GPU)"
      ]
    },
    {
      "cell_type": "code",
      "execution_count": null,
      "metadata": {
        "colab": {
          "base_uri": "https://localhost:8080/"
        },
        "id": "lbTF6qqBZieI",
        "outputId": "e38efafc-db97-4fb1-85a4-21eedbd121cc"
      },
      "outputs": [
        {
          "output_type": "stream",
          "name": "stdout",
          "text": [
            "Cloning into 'CNN-MNIST_CIFAR10-Classification'...\n",
            "remote: Enumerating objects: 172, done.\u001b[K\n",
            "remote: Counting objects: 100% (172/172), done.\u001b[K\n",
            "remote: Compressing objects: 100% (120/120), done.\u001b[K\n",
            "remote: Total 172 (delta 87), reused 125 (delta 50), pack-reused 0\u001b[K\n",
            "Receiving objects: 100% (172/172), 38.30 MiB | 34.25 MiB/s, done.\n",
            "Resolving deltas: 100% (87/87), done.\n",
            "/content/CNN-MNIST_CIFAR10-Classification\n"
          ]
        }
      ],
      "source": [
        "!git clone https://github.com/bwoody13/CNN-MNIST_CIFAR10-Classification.git\n",
        "%cd CNN-MNIST_CIFAR10-Classification"
      ]
    },
    {
      "cell_type": "markdown",
      "metadata": {
        "id": "d9y9y-egbVWd"
      },
      "source": [
        "Pull anytime repo udpated and want to have new code here"
      ]
    },
    {
      "cell_type": "code",
      "execution_count": null,
      "metadata": {
        "colab": {
          "base_uri": "https://localhost:8080/"
        },
        "id": "swa6gE84aIy2",
        "outputId": "cab03d23-ee8b-4984-e5cd-6a0ed4cf7c6d"
      },
      "outputs": [
        {
          "output_type": "stream",
          "name": "stdout",
          "text": [
            "remote: Enumerating objects: 24, done.\u001b[K\n",
            "remote: Counting objects:   5% (1/19)\u001b[K\rremote: Counting objects:  10% (2/19)\u001b[K\rremote: Counting objects:  15% (3/19)\u001b[K\rremote: Counting objects:  21% (4/19)\u001b[K\rremote: Counting objects:  26% (5/19)\u001b[K\rremote: Counting objects:  31% (6/19)\u001b[K\rremote: Counting objects:  36% (7/19)\u001b[K\rremote: Counting objects:  42% (8/19)\u001b[K\rremote: Counting objects:  47% (9/19)\u001b[K\rremote: Counting objects:  52% (10/19)\u001b[K\rremote: Counting objects:  57% (11/19)\u001b[K\rremote: Counting objects:  63% (12/19)\u001b[K\rremote: Counting objects:  68% (13/19)\u001b[K\rremote: Counting objects:  73% (14/19)\u001b[K\rremote: Counting objects:  78% (15/19)\u001b[K\rremote: Counting objects:  84% (16/19)\u001b[K\rremote: Counting objects:  89% (17/19)\u001b[K\rremote: Counting objects:  94% (18/19)\u001b[K\rremote: Counting objects: 100% (19/19)\u001b[K\rremote: Counting objects: 100% (19/19), done.\u001b[K\n",
            "remote: Compressing objects: 100% (5/5), done.\u001b[K\n",
            "remote: Total 12 (delta 7), reused 12 (delta 7), pack-reused 0\u001b[K\n",
            "Unpacking objects: 100% (12/12), 2.38 MiB | 7.33 MiB/s, done.\n",
            "From https://github.com/bwoody13/CNN-MNIST_CIFAR10-Classification\n",
            " * branch            mnist-bigger -> FETCH_HEAD\n",
            " * [new branch]      mnist-bigger -> origin/mnist-bigger\n",
            "Updating a8f4b95..415b21d\n",
            "Fast-forward\n",
            " CIFAR10/models/cifar10_res_net_v2.pth | Bin \u001b[31m0\u001b[m -> \u001b[32m2761730\u001b[m bytes\n",
            " MNIST/mnist_cnn.py                    |  19 \u001b[32m+++++++++++\u001b[m\u001b[31m--------\u001b[m\n",
            " index.py                              |   7 \u001b[32m+++++\u001b[m\u001b[31m--\u001b[m\n",
            " 3 files changed, 16 insertions(+), 10 deletions(-)\n",
            " create mode 100644 CIFAR10/models/cifar10_res_net_v2.pth\n"
          ]
        }
      ],
      "source": [
        "!git pull origin mnist-bigger"
      ]
    },
    {
      "cell_type": "code",
      "execution_count": null,
      "metadata": {
        "colab": {
          "base_uri": "https://localhost:8080/"
        },
        "id": "1yNNQ5fcqCVt",
        "outputId": "985d6cd6-bb4a-4a3c-9e1c-a64d6c4b279e"
      },
      "outputs": [
        {
          "output_type": "stream",
          "name": "stdout",
          "text": [
            "/content/CNN-MNIST_CIFAR10-Classification\n"
          ]
        }
      ],
      "source": [
        "!pwd"
      ]
    },
    {
      "cell_type": "markdown",
      "metadata": {
        "id": "YlZ3JMOFbdY2"
      },
      "source": [
        "## Import Necessary Libraries"
      ]
    },
    {
      "cell_type": "code",
      "execution_count": null,
      "metadata": {
        "id": "SsSAhq119CbP",
        "colab": {
          "base_uri": "https://localhost:8080/"
        },
        "outputId": "85e301b4-5548-4a16-fdfa-527bb6b34744"
      },
      "outputs": [
        {
          "output_type": "stream",
          "name": "stdout",
          "text": [
            "The autoreload extension is already loaded. To reload it, use:\n",
            "  %reload_ext autoreload\n"
          ]
        }
      ],
      "source": [
        "%load_ext autoreload\n",
        "%autoreload 2"
      ]
    },
    {
      "cell_type": "code",
      "execution_count": null,
      "metadata": {
        "id": "GQ2ZKSmRbc0H"
      },
      "outputs": [],
      "source": [
        "# External\n",
        "import torch\n",
        "from torchvision.datasets import MNIST, CIFAR10\n",
        "from torchvision import transforms\n",
        "from torchvision.transforms import ToTensor, Normalize\n",
        "from torch.utils.data.dataloader import DataLoader\n",
        "from torch.utils.data import random_split\n",
        "import numpy as np\n",
        "import matplotlib.pyplot as plt\n",
        "\n",
        "# Internal\n",
        "from MNIST.mnist_cnn import MNISTCNN\n",
        "from CIFAR10.cifar10_cnn import CIFAR10CNN\n",
        "from CIFAR10.cifar10_resnet import CIFAR10ResNet\n",
        "# from base_cnn import BaseCNN\n",
        "from train_test import train, test\n",
        "from save_load import save_model, MNIST_type, CIFAR10_type"
      ]
    },
    {
      "cell_type": "markdown",
      "metadata": {
        "id": "xlT16peOazWH"
      },
      "source": [
        "# MNIST Training"
      ]
    },
    {
      "cell_type": "markdown",
      "metadata": {
        "id": "GF8Vgcpra1Ld"
      },
      "source": [
        "## Load and Prep Datasets for Training"
      ]
    },
    {
      "cell_type": "code",
      "execution_count": null,
      "metadata": {
        "colab": {
          "base_uri": "https://localhost:8080/"
        },
        "id": "Q303exYsaQdi",
        "outputId": "3e74f976-3c92-4c26-d646-78352e1fd8a3"
      },
      "outputs": [
        {
          "output_type": "stream",
          "name": "stdout",
          "text": [
            "Downloading http://yann.lecun.com/exdb/mnist/train-images-idx3-ubyte.gz\n",
            "Downloading http://yann.lecun.com/exdb/mnist/train-images-idx3-ubyte.gz to data/MNIST/raw/train-images-idx3-ubyte.gz\n"
          ]
        },
        {
          "output_type": "stream",
          "name": "stderr",
          "text": [
            "100%|██████████| 9912422/9912422 [00:00<00:00, 117877396.12it/s]\n"
          ]
        },
        {
          "output_type": "stream",
          "name": "stdout",
          "text": [
            "Extracting data/MNIST/raw/train-images-idx3-ubyte.gz to data/MNIST/raw\n",
            "\n",
            "Downloading http://yann.lecun.com/exdb/mnist/train-labels-idx1-ubyte.gz\n",
            "Downloading http://yann.lecun.com/exdb/mnist/train-labels-idx1-ubyte.gz to data/MNIST/raw/train-labels-idx1-ubyte.gz\n"
          ]
        },
        {
          "output_type": "stream",
          "name": "stderr",
          "text": [
            "100%|██████████| 28881/28881 [00:00<00:00, 121135693.82it/s]\n"
          ]
        },
        {
          "output_type": "stream",
          "name": "stdout",
          "text": [
            "Extracting data/MNIST/raw/train-labels-idx1-ubyte.gz to data/MNIST/raw\n",
            "\n",
            "Downloading http://yann.lecun.com/exdb/mnist/t10k-images-idx3-ubyte.gz\n",
            "Downloading http://yann.lecun.com/exdb/mnist/t10k-images-idx3-ubyte.gz to data/MNIST/raw/t10k-images-idx3-ubyte.gz\n"
          ]
        },
        {
          "output_type": "stream",
          "name": "stderr",
          "text": [
            "100%|██████████| 1648877/1648877 [00:00<00:00, 30749184.78it/s]\n"
          ]
        },
        {
          "output_type": "stream",
          "name": "stdout",
          "text": [
            "Extracting data/MNIST/raw/t10k-images-idx3-ubyte.gz to data/MNIST/raw\n",
            "\n",
            "Downloading http://yann.lecun.com/exdb/mnist/t10k-labels-idx1-ubyte.gz\n",
            "Downloading http://yann.lecun.com/exdb/mnist/t10k-labels-idx1-ubyte.gz to data/MNIST/raw/t10k-labels-idx1-ubyte.gz\n"
          ]
        },
        {
          "output_type": "stream",
          "name": "stderr",
          "text": [
            "100%|██████████| 4542/4542 [00:00<00:00, 1660466.20it/s]\n"
          ]
        },
        {
          "output_type": "stream",
          "name": "stdout",
          "text": [
            "Extracting data/MNIST/raw/t10k-labels-idx1-ubyte.gz to data/MNIST/raw\n",
            "\n"
          ]
        }
      ],
      "source": [
        "data_mean = 0.1307\n",
        "data_std = 0.3081\n",
        "init_trans = transforms.Compose([\n",
        "    ToTensor(),\n",
        "    Normalize((data_mean,), (data_std,))\n",
        "])\n",
        "dataset = MNIST(root='data/', train=True, download=True, transform=init_trans)\n",
        "test_ds = MNIST(root='data/', train=False, download=True, transform=init_trans)\n",
        "val_size = int(0.1 * len(dataset))\n",
        "train_size = len(dataset) - val_size\n",
        "train_dataset, val_dataset = random_split(dataset, [train_size, val_size])"
      ]
    },
    {
      "cell_type": "markdown",
      "metadata": {
        "id": "hY-u5crfbBKD"
      },
      "source": [
        "## Visualize Data"
      ]
    },
    {
      "cell_type": "code",
      "execution_count": null,
      "metadata": {
        "colab": {
          "base_uri": "https://localhost:8080/"
        },
        "id": "vKb8piLYbC_i",
        "outputId": "5578b816-1435-41da-b303-b2581705fe35"
      },
      "outputs": [
        {
          "name": "stdout",
          "output_type": "stream",
          "text": [
            "torch.Size([16, 1, 28, 28])\n"
          ]
        },
        {
          "data": {
            "image/png": "[encoded data removed]",
            "text/plain": [
              "<Figure size 640x480 with 12 Axes>"
            ]
          },
          "metadata": {},
          "output_type": "display_data"
        }
      ],
      "source": [
        "examples = enumerate(DataLoader(dataset, 16, shuffle=True))\n",
        "batch_idx, (example_data, example_targets) = next(examples)\n",
        "print(example_data.shape)\n",
        "fig = plt.figure()\n",
        "for i in range(12):\n",
        "  plt.subplot(3, 4, i+1)\n",
        "  plt.tight_layout()\n",
        "  plt.imshow(example_data[i][0], cmap='gray', interpolation='none')\n",
        "  plt.title(\"Label: {}\".format(example_targets[i]))\n",
        "  plt.xticks([])\n",
        "  plt.yticks([])\n",
        "\n",
        "plt.show()"
      ]
    },
    {
      "cell_type": "markdown",
      "metadata": {
        "id": "SbHMuqx2b4xA"
      },
      "source": [
        "## Initialize CNN Model"
      ]
    },
    {
      "cell_type": "code",
      "execution_count": null,
      "metadata": {
        "colab": {
          "base_uri": "https://localhost:8080/"
        },
        "id": "TRi7jaAMb7Nd",
        "outputId": "1b3e43ce-8045-4790-c64a-35e5a6a4c6ad"
      },
      "outputs": [
        {
          "output_type": "stream",
          "name": "stdout",
          "text": [
            "True\n",
            "cuda:0\n"
          ]
        }
      ],
      "source": [
        "print(torch.cuda.is_available())\n",
        "model = MNISTCNN(learning_rate=0.01, weight_decay=1e-4, epochs=50, batch_size=128, gamma=0.2, step=15)\n",
        "print(model.device)"
      ]
    },
    {
      "cell_type": "markdown",
      "metadata": {
        "id": "VoP4SkBFb_qW"
      },
      "source": [
        "## Create DataLoaders according to model"
      ]
    },
    {
      "cell_type": "code",
      "execution_count": null,
      "metadata": {
        "id": "5wg6lnDgcG_u"
      },
      "outputs": [],
      "source": [
        "num_workers = 2 if 'cuda' in model.device.type else 0\n",
        "pin_memory = True if 'cuda' in model.device.type else False\n",
        "\n",
        "train_loader = DataLoader(train_dataset, model.batch_size, shuffle=True, num_workers=num_workers, pin_memory=pin_memory)\n",
        "val_loader = DataLoader(val_dataset, model.batch_size, num_workers=num_workers, pin_memory=pin_memory)\n",
        "test_loader = DataLoader(test_ds, model.batch_size, num_workers=num_workers, pin_memory=pin_memory)"
      ]
    },
    {
      "cell_type": "markdown",
      "metadata": {
        "id": "8Q0hfcHccKux"
      },
      "source": [
        "## Train the Model"
      ]
    },
    {
      "cell_type": "code",
      "execution_count": null,
      "metadata": {
        "colab": {
          "base_uri": "https://localhost:8080/",
          "height": 1000
        },
        "id": "E9OxZ2-VcMTc",
        "outputId": "32412b85-802f-443f-e724-455d4217d372"
      },
      "outputs": [
        {
          "output_type": "stream",
          "name": "stdout",
          "text": [
            "Epoch 1, Batch 100, Loss: 3.4988\n",
            "Epoch 1, Batch 200, Loss: 1.9253\n",
            "Epoch 1, Batch 300, Loss: 1.7816\n",
            "Epoch 1, Batch 400, Loss: 1.7166\n",
            "Validation Loss: 1.0098, Validation Accuracy: 69.50%\n",
            "Epoch 2, Batch 100, Loss: 1.5269\n",
            "Epoch 2, Batch 200, Loss: 1.4399\n",
            "Epoch 2, Batch 300, Loss: 1.2991\n",
            "Epoch 2, Batch 400, Loss: 1.1963\n",
            "Validation Loss: 0.3080, Validation Accuracy: 92.28%\n",
            "Epoch 3, Batch 100, Loss: 1.0954\n",
            "Epoch 3, Batch 200, Loss: 0.9416\n",
            "Epoch 3, Batch 300, Loss: 0.8225\n",
            "Epoch 3, Batch 400, Loss: 0.6899\n",
            "Validation Loss: 0.1344, Validation Accuracy: 96.50%\n",
            "Epoch 4, Batch 100, Loss: 0.5529\n",
            "Epoch 4, Batch 200, Loss: 0.4921\n",
            "Epoch 4, Batch 300, Loss: 0.4631\n",
            "Epoch 4, Batch 400, Loss: 0.4135\n",
            "Validation Loss: 0.1131, Validation Accuracy: 97.02%\n",
            "Epoch 5, Batch 100, Loss: 0.3802\n",
            "Epoch 5, Batch 200, Loss: 0.3348\n",
            "Epoch 5, Batch 300, Loss: 0.3631\n",
            "Epoch 5, Batch 400, Loss: 0.3659\n",
            "Validation Loss: 0.0800, Validation Accuracy: 97.73%\n",
            "Epoch 6, Batch 100, Loss: 0.3205\n",
            "Epoch 6, Batch 200, Loss: 0.3154\n",
            "Epoch 6, Batch 300, Loss: 0.3067\n",
            "Epoch 6, Batch 400, Loss: 0.3263\n",
            "Validation Loss: 0.0886, Validation Accuracy: 98.18%\n",
            "Epoch 7, Batch 100, Loss: 0.2842\n",
            "Epoch 7, Batch 200, Loss: 0.2934\n",
            "Epoch 7, Batch 300, Loss: 0.3030\n",
            "Epoch 7, Batch 400, Loss: 0.2566\n",
            "Validation Loss: 0.0631, Validation Accuracy: 98.40%\n",
            "Epoch 8, Batch 100, Loss: 0.2845\n",
            "Epoch 8, Batch 200, Loss: 0.2516\n",
            "Epoch 8, Batch 300, Loss: 0.2561\n",
            "Epoch 8, Batch 400, Loss: 0.2504\n",
            "Validation Loss: 0.0661, Validation Accuracy: 98.25%\n",
            "Epoch 9, Batch 100, Loss: 0.2525\n",
            "Epoch 9, Batch 200, Loss: 0.2469\n",
            "Epoch 9, Batch 300, Loss: 0.2693\n",
            "Epoch 9, Batch 400, Loss: 0.2899\n",
            "Validation Loss: 0.0610, Validation Accuracy: 98.30%\n",
            "Epoch 10, Batch 100, Loss: 0.2421\n",
            "Epoch 10, Batch 200, Loss: 0.2646\n",
            "Epoch 10, Batch 300, Loss: 0.2393\n",
            "Epoch 10, Batch 400, Loss: 0.2627\n",
            "Validation Loss: 0.0535, Validation Accuracy: 98.33%\n",
            "Epoch 11, Batch 100, Loss: 0.2309\n",
            "Epoch 11, Batch 200, Loss: 0.2735\n",
            "Epoch 11, Batch 300, Loss: 0.2396\n",
            "Epoch 11, Batch 400, Loss: 0.2242\n",
            "Validation Loss: 0.0577, Validation Accuracy: 98.32%\n",
            "Epoch 12, Batch 100, Loss: 0.2461\n",
            "Epoch 12, Batch 200, Loss: 0.2483\n",
            "Epoch 12, Batch 300, Loss: 0.2876\n",
            "Epoch 12, Batch 400, Loss: 0.2670\n",
            "Validation Loss: 0.0669, Validation Accuracy: 98.28%\n",
            "Epoch 13, Batch 100, Loss: 0.2525\n",
            "Epoch 13, Batch 200, Loss: 0.2230\n",
            "Epoch 13, Batch 300, Loss: 0.2343\n",
            "Epoch 13, Batch 400, Loss: 0.2334\n",
            "Validation Loss: 0.0723, Validation Accuracy: 97.98%\n",
            "Epoch 14, Batch 100, Loss: 0.2444\n",
            "Epoch 14, Batch 200, Loss: 0.2388\n",
            "Epoch 14, Batch 300, Loss: 0.2558\n",
            "Epoch 14, Batch 400, Loss: 0.2418\n",
            "Validation Loss: 0.0643, Validation Accuracy: 98.48%\n",
            "Epoch 15, Batch 100, Loss: 0.2374\n",
            "Epoch 15, Batch 200, Loss: 0.2533\n",
            "Epoch 15, Batch 300, Loss: 0.2646\n",
            "Epoch 15, Batch 400, Loss: 0.2674\n",
            "Validation Loss: 0.0550, Validation Accuracy: 98.37%\n",
            "Epoch 16, Batch 100, Loss: 0.1759\n",
            "Epoch 16, Batch 200, Loss: 0.1635\n",
            "Epoch 16, Batch 300, Loss: 0.1438\n",
            "Epoch 16, Batch 400, Loss: 0.1463\n",
            "Validation Loss: 0.0376, Validation Accuracy: 99.00%\n",
            "Epoch 17, Batch 100, Loss: 0.1473\n",
            "Epoch 17, Batch 200, Loss: 0.1279\n",
            "Epoch 17, Batch 300, Loss: 0.1210\n",
            "Epoch 17, Batch 400, Loss: 0.1296\n",
            "Validation Loss: 0.0348, Validation Accuracy: 99.03%\n",
            "Epoch 18, Batch 100, Loss: 0.1242\n",
            "Epoch 18, Batch 200, Loss: 0.1160\n",
            "Epoch 18, Batch 300, Loss: 0.1185\n",
            "Epoch 18, Batch 400, Loss: 0.1093\n",
            "Validation Loss: 0.0318, Validation Accuracy: 99.12%\n",
            "Epoch 19, Batch 100, Loss: 0.1240\n",
            "Epoch 19, Batch 200, Loss: 0.1059\n",
            "Epoch 19, Batch 300, Loss: 0.1125\n",
            "Epoch 19, Batch 400, Loss: 0.1133\n",
            "Validation Loss: 0.0293, Validation Accuracy: 99.13%\n",
            "Epoch 20, Batch 100, Loss: 0.1018\n",
            "Epoch 20, Batch 200, Loss: 0.1114\n",
            "Epoch 20, Batch 300, Loss: 0.1128\n",
            "Epoch 20, Batch 400, Loss: 0.1019\n",
            "Validation Loss: 0.0342, Validation Accuracy: 99.10%\n",
            "Epoch 21, Batch 100, Loss: 0.1010\n",
            "Epoch 21, Batch 200, Loss: 0.1099\n",
            "Epoch 21, Batch 300, Loss: 0.1016\n",
            "Epoch 21, Batch 400, Loss: 0.1088\n",
            "Validation Loss: 0.0310, Validation Accuracy: 99.02%\n",
            "Epoch 22, Batch 100, Loss: 0.1020\n",
            "Epoch 22, Batch 200, Loss: 0.1123\n",
            "Epoch 22, Batch 300, Loss: 0.1107\n",
            "Epoch 22, Batch 400, Loss: 0.1029\n",
            "Validation Loss: 0.0346, Validation Accuracy: 98.98%\n",
            "Epoch 23, Batch 100, Loss: 0.1183\n",
            "Epoch 23, Batch 200, Loss: 0.1013\n",
            "Epoch 23, Batch 300, Loss: 0.1057\n",
            "Epoch 23, Batch 400, Loss: 0.0955\n",
            "Validation Loss: 0.0293, Validation Accuracy: 99.22%\n",
            "Epoch 24, Batch 100, Loss: 0.0971\n",
            "Epoch 24, Batch 200, Loss: 0.1042\n",
            "Epoch 24, Batch 300, Loss: 0.0960\n",
            "Epoch 24, Batch 400, Loss: 0.0951\n",
            "Validation Loss: 0.0342, Validation Accuracy: 98.95%\n",
            "Epoch 25, Batch 100, Loss: 0.0905\n",
            "Epoch 25, Batch 200, Loss: 0.1076\n",
            "Epoch 25, Batch 300, Loss: 0.1008\n",
            "Epoch 25, Batch 400, Loss: 0.1080\n",
            "Validation Loss: 0.0339, Validation Accuracy: 99.08%\n",
            "Epoch 26, Batch 100, Loss: 0.1020\n",
            "Epoch 26, Batch 200, Loss: 0.0886\n",
            "Epoch 26, Batch 300, Loss: 0.0905\n",
            "Epoch 26, Batch 400, Loss: 0.1000\n",
            "Validation Loss: 0.0310, Validation Accuracy: 99.05%\n",
            "Epoch 27, Batch 100, Loss: 0.0964\n",
            "Epoch 27, Batch 200, Loss: 0.1044\n",
            "Epoch 27, Batch 300, Loss: 0.0964\n",
            "Epoch 27, Batch 400, Loss: 0.0926\n",
            "Validation Loss: 0.0309, Validation Accuracy: 99.08%\n",
            "Epoch 28, Batch 100, Loss: 0.0895\n",
            "Epoch 28, Batch 200, Loss: 0.0896\n",
            "Epoch 28, Batch 300, Loss: 0.1026\n",
            "Epoch 28, Batch 400, Loss: 0.0903\n",
            "Validation Loss: 0.0282, Validation Accuracy: 99.22%\n",
            "Epoch 29, Batch 100, Loss: 0.0987\n",
            "Epoch 29, Batch 200, Loss: 0.0951\n",
            "Epoch 29, Batch 300, Loss: 0.0850\n",
            "Epoch 29, Batch 400, Loss: 0.1064\n",
            "Validation Loss: 0.0289, Validation Accuracy: 99.12%\n",
            "Epoch 30, Batch 100, Loss: 0.0932\n",
            "Epoch 30, Batch 200, Loss: 0.0947\n",
            "Epoch 30, Batch 300, Loss: 0.1051\n",
            "Epoch 30, Batch 400, Loss: 0.0883\n",
            "Validation Loss: 0.0266, Validation Accuracy: 99.30%\n",
            "Epoch 31, Batch 100, Loss: 0.0811\n",
            "Epoch 31, Batch 200, Loss: 0.0840\n",
            "Epoch 31, Batch 300, Loss: 0.0730\n",
            "Epoch 31, Batch 400, Loss: 0.0827\n",
            "Validation Loss: 0.0224, Validation Accuracy: 99.37%\n",
            "Epoch 32, Batch 100, Loss: 0.0778\n",
            "Epoch 32, Batch 200, Loss: 0.0673\n",
            "Epoch 32, Batch 300, Loss: 0.0703\n",
            "Epoch 32, Batch 400, Loss: 0.0711\n",
            "Validation Loss: 0.0210, Validation Accuracy: 99.27%\n",
            "Epoch 33, Batch 100, Loss: 0.0684\n",
            "Epoch 33, Batch 200, Loss: 0.0742\n",
            "Epoch 33, Batch 300, Loss: 0.0695\n",
            "Epoch 33, Batch 400, Loss: 0.0635\n",
            "Validation Loss: 0.0193, Validation Accuracy: 99.43%\n",
            "Epoch 34, Batch 100, Loss: 0.0766\n",
            "Epoch 34, Batch 200, Loss: 0.0617\n",
            "Epoch 34, Batch 300, Loss: 0.0699\n",
            "Epoch 34, Batch 400, Loss: 0.0688\n",
            "Validation Loss: 0.0203, Validation Accuracy: 99.33%\n",
            "Epoch 35, Batch 100, Loss: 0.0700\n",
            "Epoch 35, Batch 200, Loss: 0.0661\n",
            "Epoch 35, Batch 300, Loss: 0.0627\n",
            "Epoch 35, Batch 400, Loss: 0.0668\n",
            "Validation Loss: 0.0199, Validation Accuracy: 99.38%\n",
            "Epoch 36, Batch 100, Loss: 0.0670\n",
            "Epoch 36, Batch 200, Loss: 0.0667\n",
            "Epoch 36, Batch 300, Loss: 0.0626\n",
            "Epoch 36, Batch 400, Loss: 0.0660\n",
            "Validation Loss: 0.0181, Validation Accuracy: 99.40%\n",
            "Epoch 37, Batch 100, Loss: 0.0724\n",
            "Epoch 37, Batch 200, Loss: 0.0558\n",
            "Epoch 37, Batch 300, Loss: 0.0668\n",
            "Epoch 37, Batch 400, Loss: 0.0667\n",
            "Validation Loss: 0.0176, Validation Accuracy: 99.47%\n",
            "Epoch 38, Batch 100, Loss: 0.0597\n",
            "Epoch 38, Batch 200, Loss: 0.0648\n",
            "Epoch 38, Batch 300, Loss: 0.0590\n",
            "Epoch 38, Batch 400, Loss: 0.0618\n",
            "Validation Loss: 0.0193, Validation Accuracy: 99.45%\n",
            "Epoch 39, Batch 100, Loss: 0.0598\n",
            "Epoch 39, Batch 200, Loss: 0.0629\n",
            "Epoch 39, Batch 300, Loss: 0.0623\n",
            "Epoch 39, Batch 400, Loss: 0.0645\n",
            "Validation Loss: 0.0182, Validation Accuracy: 99.47%\n",
            "Epoch 40, Batch 100, Loss: 0.0612\n",
            "Epoch 40, Batch 200, Loss: 0.0649\n",
            "Epoch 40, Batch 300, Loss: 0.0610\n",
            "Epoch 40, Batch 400, Loss: 0.0635\n",
            "Validation Loss: 0.0192, Validation Accuracy: 99.37%\n",
            "Epoch 41, Batch 100, Loss: 0.0579\n",
            "Epoch 41, Batch 200, Loss: 0.0564\n",
            "Epoch 41, Batch 300, Loss: 0.0647\n",
            "Epoch 41, Batch 400, Loss: 0.0573\n",
            "Validation Loss: 0.0196, Validation Accuracy: 99.35%\n",
            "Epoch 42, Batch 100, Loss: 0.0641\n",
            "Epoch 42, Batch 200, Loss: 0.0577\n",
            "Epoch 42, Batch 300, Loss: 0.0613\n",
            "Epoch 42, Batch 400, Loss: 0.0577\n",
            "Validation Loss: 0.0197, Validation Accuracy: 99.47%\n",
            "Epoch 43, Batch 100, Loss: 0.0608\n",
            "Epoch 43, Batch 200, Loss: 0.0623\n",
            "Epoch 43, Batch 300, Loss: 0.0610\n",
            "Epoch 43, Batch 400, Loss: 0.0560\n",
            "Validation Loss: 0.0212, Validation Accuracy: 99.37%\n",
            "Epoch 44, Batch 100, Loss: 0.0613\n",
            "Epoch 44, Batch 200, Loss: 0.0651\n",
            "Epoch 44, Batch 300, Loss: 0.0622\n",
            "Epoch 44, Batch 400, Loss: 0.0598\n",
            "Validation Loss: 0.0198, Validation Accuracy: 99.42%\n",
            "Early stopping! No improvement for the last 6 epochs.\n"
          ]
        },
        {
          "output_type": "display_data",
          "data": {
            "text/plain": [
              "<Figure size 640x480 with 1 Axes>"
            ],
            "image/png": "[encoded data removed]"
          },
          "metadata": {}
        }
      ],
      "source": [
        "train(model, train_loader, val_loader, use_scheduler=True, patience=6)"
      ]
    },
    {
      "cell_type": "markdown",
      "metadata": {
        "id": "quBLoqSx0jJl"
      },
      "source": [
        "## Test Model"
      ]
    },
    {
      "cell_type": "code",
      "execution_count": null,
      "metadata": {
        "colab": {
          "base_uri": "https://localhost:8080/"
        },
        "id": "Mb5bqBJf0rd3",
        "outputId": "a98a2944-9105-4829-ac4f-8e86fc3446e7"
      },
      "outputs": [
        {
          "output_type": "stream",
          "name": "stdout",
          "text": [
            "Accuracy for class: 0     is 5335/5344 (99.83%)\n",
            "Accuracy for class: 1     is 6067/6084 (99.72%)\n",
            "Accuracy for class: 2     is 5367/5385 (99.67%)\n",
            "Accuracy for class: 3     is 5484/5528 (99.20%)\n",
            "Accuracy for class: 4     is 5220/5247 (99.49%)\n",
            "Accuracy for class: 5     is 4851/4875 (99.51%)\n",
            "Accuracy for class: 6     is 5288/5298 (99.81%)\n",
            "Accuracy for class: 7     is 5592/5613 (99.63%)\n",
            "Accuracy for class: 8     is 5191/5259 (98.71%)\n",
            "Accuracy for class: 9     is 5335/5367 (99.40%)\n",
            "\n",
            "Test set: Average loss: 0.0161, Accuracy: 53730/54000 (99.50%)\n"
          ]
        }
      ],
      "source": [
        "# Train Dataset\n",
        "test(model, train_loader)"
      ]
    },
    {
      "cell_type": "code",
      "execution_count": null,
      "metadata": {
        "colab": {
          "base_uri": "https://localhost:8080/"
        },
        "id": "Gmp0UrnR0mu4",
        "outputId": "bcc5c260-b94d-40eb-9439-bf26df46db76"
      },
      "outputs": [
        {
          "output_type": "stream",
          "name": "stdout",
          "text": [
            "Accuracy for class: 0     is 979/980 (99.90%)\n",
            "Accuracy for class: 1     is 1131/1135 (99.65%)\n",
            "Accuracy for class: 2     is 1030/1032 (99.81%)\n",
            "Accuracy for class: 3     is 1006/1010 (99.60%)\n",
            "Accuracy for class: 4     is 973/982 (99.08%)\n",
            "Accuracy for class: 5     is 887/892 (99.44%)\n",
            "Accuracy for class: 6     is 953/958 (99.48%)\n",
            "Accuracy for class: 7     is 1024/1028 (99.61%)\n",
            "Accuracy for class: 8     is 967/974 (99.28%)\n",
            "Accuracy for class: 9     is 1002/1009 (99.31%)\n",
            "\n",
            "Test set: Average loss: 0.0145, Accuracy: 9952/10000 (99.52%)\n"
          ]
        }
      ],
      "source": [
        "# Test Dataset\n",
        "test(model, test_loader)"
      ]
    },
    {
      "cell_type": "markdown",
      "metadata": {
        "id": "nOHh4XRtrPyj"
      },
      "source": [
        "## Save Model (Need to move to repo manually)"
      ]
    },
    {
      "cell_type": "code",
      "execution_count": null,
      "metadata": {
        "id": "b08BulHosDjM"
      },
      "outputs": [],
      "source": [
        "save_state_dict(model, \"99_52-Test\", MNIST_type)"
      ]
    },
    {
      "cell_type": "markdown",
      "metadata": {
        "id": "0Ul8K6ir0PxV"
      },
      "source": [
        "# CIFAR10 Training"
      ]
    },
    {
      "cell_type": "markdown",
      "metadata": {
        "id": "0KU2AUEd1V3g"
      },
      "source": [
        "## Load and Prep Datasets for Training"
      ]
    },
    {
      "cell_type": "code",
      "execution_count": null,
      "metadata": {
        "colab": {
          "base_uri": "https://localhost:8080/"
        },
        "id": "_zNFzBKC1V3h",
        "outputId": "2b0faa86-a2b7-45d3-89da-907ec04c71d2"
      },
      "outputs": [
        {
          "output_type": "stream",
          "name": "stdout",
          "text": [
            "Downloading https://www.cs.toronto.edu/~kriz/cifar-10-python.tar.gz to data/cifar-10-python.tar.gz\n"
          ]
        },
        {
          "output_type": "stream",
          "name": "stderr",
          "text": [
            "100%|██████████| 170498071/170498071 [00:03<00:00, 49875728.66it/s]\n"
          ]
        },
        {
          "output_type": "stream",
          "name": "stdout",
          "text": [
            "Extracting data/cifar-10-python.tar.gz to data/\n",
            "Files already downloaded and verified\n"
          ]
        }
      ],
      "source": [
        "init_trans = transforms.Compose([\n",
        "    ToTensor(),\n",
        "    Normalize((0.5, 0.5, 0.5), (0.5, 0.5, 0.5))\n",
        "])\n",
        "dataset = CIFAR10(root='data/', train=True, download=True, transform=init_trans)\n",
        "test_ds = CIFAR10(root='data/', train=False, download=True, transform=init_trans)\n",
        "val_size = int(0.1 * len(dataset))\n",
        "train_size = len(dataset) - val_size\n",
        "train_dataset, val_dataset = random_split(dataset, [train_size, val_size])"
      ]
    },
    {
      "cell_type": "markdown",
      "metadata": {
        "id": "M5JBwxNq1V3j"
      },
      "source": [
        "## Visualize Data"
      ]
    },
    {
      "cell_type": "code",
      "execution_count": null,
      "metadata": {
        "colab": {
          "base_uri": "https://localhost:8080/",
          "height": 480
        },
        "id": "QSKvTjm31V3j",
        "outputId": "e12ff730-ef87-4f93-ccae-f013d8ce6373"
      },
      "outputs": [
        {
          "name": "stdout",
          "output_type": "stream",
          "text": [
            "torch.Size([16, 3, 32, 32])\n"
          ]
        },
        {
          "data": {
            "image/png": "[encoded data removed]",
            "text/plain": [
              "<Figure size 640x480 with 12 Axes>"
            ]
          },
          "metadata": {},
          "output_type": "display_data"
        }
      ],
      "source": [
        "classes = ('plane', 'car', 'bird', 'cat', 'deer', 'dog', 'frog', 'horse', 'ship', 'truck')\n",
        "examples = enumerate(DataLoader(dataset, 16, shuffle=True))\n",
        "batch_idx, (example_data, example_targets) = next(examples)\n",
        "print(example_data.shape)\n",
        "fig = plt.figure()\n",
        "for i in range(12):\n",
        "    plt.subplot(3, 4, i+1)\n",
        "    plt.tight_layout()\n",
        "    # Unnoramlize image and transpose (inputs are channel, height, width)\n",
        "    image = example_data[i] * 0.5 + 0.5\n",
        "    image = np.transpose(image, (1, 2, 0))\n",
        "    plt.imshow(image)\n",
        "    plt.title(f\"Label: {classes[example_targets[i]]}\")\n",
        "    plt.xticks([])\n",
        "    plt.yticks([])\n",
        "\n",
        "plt.show()"
      ]
    },
    {
      "cell_type": "markdown",
      "metadata": {
        "id": "wkvwOjRD1V3k"
      },
      "source": [
        "## Initialize CNN Model"
      ]
    },
    {
      "cell_type": "code",
      "execution_count": null,
      "metadata": {
        "colab": {
          "base_uri": "https://localhost:8080/"
        },
        "id": "wdHbe3U-1V3k",
        "outputId": "0c8a9055-d6cb-4d79-c464-c654c3d64d9a"
      },
      "outputs": [
        {
          "output_type": "stream",
          "name": "stdout",
          "text": [
            "True\n",
            "cuda:0\n"
          ]
        }
      ],
      "source": [
        "print(torch.cuda.is_available())\n",
        "# model = CIFAR10CNN(momentum=0.9, learning_rate=0.1, weight_decay=1e-4, batch_size=128)\n",
        "model = CIFAR10ResNet([7, 7, 7], learning_rate=0.1, weight_decay=0.0001, batch_size=128, momentum=0.9)\n",
        "print(model.device)"
      ]
    },
    {
      "cell_type": "markdown",
      "metadata": {
        "id": "YwisRoz31V3l"
      },
      "source": [
        "## Create DataLoaders according to model"
      ]
    },
    {
      "cell_type": "code",
      "execution_count": null,
      "metadata": {
        "id": "jkvoizAG1V3l"
      },
      "outputs": [],
      "source": [
        "num_workers = 2 if 'cuda' in model.device.type else 0\n",
        "pin_memory = True if 'cuda' in model.device.type else False\n",
        "\n",
        "train_loader = DataLoader(train_dataset, model.batch_size, shuffle=True, num_workers=num_workers, pin_memory=pin_memory)\n",
        "val_loader = DataLoader(val_dataset, model.batch_size, num_workers=num_workers, pin_memory=pin_memory)\n",
        "test_loader = DataLoader(test_ds, model.batch_size, num_workers=num_workers, pin_memory=pin_memory)"
      ]
    },
    {
      "cell_type": "markdown",
      "metadata": {
        "id": "04eYSAGm1V3l"
      },
      "source": [
        "## Train the Model"
      ]
    },
    {
      "cell_type": "code",
      "execution_count": null,
      "metadata": {
        "colab": {
          "base_uri": "https://localhost:8080/",
          "height": 1000
        },
        "id": "H3HgnyDo1V3l",
        "outputId": "19c7348e-a359-475c-9d9e-1541b3717c9c"
      },
      "outputs": [
        {
          "output_type": "stream",
          "name": "stdout",
          "text": [
            "Epoch 1, Batch 100, Loss: 2.7388\n",
            "Epoch 1, Batch 200, Loss: 2.2337\n",
            "Epoch 1, Batch 300, Loss: 1.8749\n",
            "Validation Loss: -2.8562, Validation Accuracy: 41.90%\n",
            "Epoch 2, Batch 100, Loss: 1.6095\n",
            "Epoch 2, Batch 200, Loss: 1.5213\n",
            "Epoch 2, Batch 300, Loss: 1.4166\n",
            "Validation Loss: -2.9140, Validation Accuracy: 43.96%\n",
            "Epoch 3, Batch 100, Loss: 1.3121\n",
            "Epoch 3, Batch 200, Loss: 1.2345\n",
            "Epoch 3, Batch 300, Loss: 1.1479\n",
            "Validation Loss: -4.4374, Validation Accuracy: 60.10%\n",
            "Epoch 4, Batch 100, Loss: 1.0609\n",
            "Epoch 4, Batch 200, Loss: 1.0238\n",
            "Epoch 4, Batch 300, Loss: 0.9948\n",
            "Validation Loss: -4.9784, Validation Accuracy: 62.34%\n",
            "Epoch 5, Batch 100, Loss: 0.9228\n",
            "Epoch 5, Batch 200, Loss: 0.9105\n",
            "Epoch 5, Batch 300, Loss: 0.8626\n",
            "Validation Loss: -5.6754, Validation Accuracy: 70.60%\n",
            "Epoch 6, Batch 100, Loss: 0.8099\n",
            "Epoch 6, Batch 200, Loss: 0.8078\n",
            "Epoch 6, Batch 300, Loss: 0.7776\n",
            "Validation Loss: -6.0490, Validation Accuracy: 73.20%\n",
            "Epoch 7, Batch 100, Loss: 0.7256\n",
            "Epoch 7, Batch 200, Loss: 0.7095\n",
            "Epoch 7, Batch 300, Loss: 0.7159\n",
            "Validation Loss: -7.3892, Validation Accuracy: 74.92%\n",
            "Epoch 8, Batch 100, Loss: 0.6596\n",
            "Epoch 8, Batch 200, Loss: 0.6552\n",
            "Epoch 8, Batch 300, Loss: 0.6591\n",
            "Validation Loss: -6.7083, Validation Accuracy: 77.28%\n",
            "Epoch 9, Batch 100, Loss: 0.6155\n",
            "Epoch 9, Batch 200, Loss: 0.6055\n",
            "Epoch 9, Batch 300, Loss: 0.6054\n",
            "Validation Loss: -7.6366, Validation Accuracy: 76.80%\n",
            "Epoch 10, Batch 100, Loss: 0.5597\n",
            "Epoch 10, Batch 200, Loss: 0.5630\n",
            "Epoch 10, Batch 300, Loss: 0.5859\n",
            "Validation Loss: -7.2719, Validation Accuracy: 79.32%\n",
            "Epoch 11, Batch 100, Loss: 0.5275\n",
            "Epoch 11, Batch 200, Loss: 0.5390\n",
            "Epoch 11, Batch 300, Loss: 0.5298\n",
            "Validation Loss: -7.9014, Validation Accuracy: 81.36%\n",
            "Epoch 12, Batch 100, Loss: 0.4865\n",
            "Epoch 12, Batch 200, Loss: 0.5138\n",
            "Epoch 12, Batch 300, Loss: 0.5075\n",
            "Validation Loss: -7.2876, Validation Accuracy: 80.38%\n",
            "Epoch 13, Batch 100, Loss: 0.4779\n",
            "Epoch 13, Batch 200, Loss: 0.4683\n",
            "Epoch 13, Batch 300, Loss: 0.4877\n",
            "Validation Loss: -7.9884, Validation Accuracy: 78.14%\n",
            "Epoch 14, Batch 100, Loss: 0.4601\n",
            "Epoch 14, Batch 200, Loss: 0.4548\n",
            "Epoch 14, Batch 300, Loss: 0.4551\n",
            "Validation Loss: -8.8295, Validation Accuracy: 82.40%\n",
            "Epoch 15, Batch 100, Loss: 0.4376\n",
            "Epoch 15, Batch 200, Loss: 0.4621\n",
            "Epoch 15, Batch 300, Loss: 0.4382\n",
            "Validation Loss: -8.5717, Validation Accuracy: 80.62%\n",
            "Epoch 16, Batch 100, Loss: 0.4057\n",
            "Epoch 16, Batch 200, Loss: 0.4209\n",
            "Epoch 16, Batch 300, Loss: 0.4312\n",
            "Validation Loss: -8.8756, Validation Accuracy: 78.82%\n",
            "Epoch 17, Batch 100, Loss: 0.3898\n",
            "Epoch 17, Batch 200, Loss: 0.4108\n",
            "Epoch 17, Batch 300, Loss: 0.4073\n",
            "Validation Loss: -8.5978, Validation Accuracy: 83.90%\n",
            "Epoch 18, Batch 100, Loss: 0.3949\n",
            "Epoch 18, Batch 200, Loss: 0.3985\n",
            "Epoch 18, Batch 300, Loss: 0.3852\n",
            "Validation Loss: -9.2505, Validation Accuracy: 83.16%\n",
            "Epoch 19, Batch 100, Loss: 0.3611\n",
            "Epoch 19, Batch 200, Loss: 0.3839\n",
            "Epoch 19, Batch 300, Loss: 0.3946\n",
            "Validation Loss: -8.8359, Validation Accuracy: 81.80%\n",
            "Epoch 20, Batch 100, Loss: 0.3473\n",
            "Epoch 20, Batch 200, Loss: 0.3730\n",
            "Epoch 20, Batch 300, Loss: 0.3713\n",
            "Validation Loss: -9.0520, Validation Accuracy: 83.44%\n",
            "Epoch 21, Batch 100, Loss: 0.3391\n",
            "Epoch 21, Batch 200, Loss: 0.3645\n",
            "Epoch 21, Batch 300, Loss: 0.3606\n",
            "Validation Loss: -9.5849, Validation Accuracy: 83.16%\n",
            "Epoch 22, Batch 100, Loss: 0.3394\n",
            "Epoch 22, Batch 200, Loss: 0.3563\n",
            "Epoch 22, Batch 300, Loss: 0.3534\n",
            "Validation Loss: -10.2000, Validation Accuracy: 84.18%\n",
            "Epoch 23, Batch 100, Loss: 0.3274\n",
            "Epoch 23, Batch 200, Loss: 0.3279\n",
            "Epoch 23, Batch 300, Loss: 0.3497\n",
            "Validation Loss: -9.6409, Validation Accuracy: 83.84%\n",
            "Epoch 24, Batch 100, Loss: 0.3330\n",
            "Epoch 24, Batch 200, Loss: 0.3269\n",
            "Epoch 24, Batch 300, Loss: 0.3307\n",
            "Validation Loss: -9.6340, Validation Accuracy: 84.20%\n",
            "Epoch 25, Batch 100, Loss: 0.3141\n",
            "Epoch 25, Batch 200, Loss: 0.3303\n",
            "Epoch 25, Batch 300, Loss: 0.3313\n",
            "Validation Loss: -9.5887, Validation Accuracy: 84.28%\n",
            "Epoch 26, Batch 100, Loss: 0.3051\n",
            "Epoch 26, Batch 200, Loss: 0.3181\n",
            "Epoch 26, Batch 300, Loss: 0.3315\n",
            "Validation Loss: -10.3070, Validation Accuracy: 84.78%\n",
            "Epoch 27, Batch 100, Loss: 0.3075\n",
            "Epoch 27, Batch 200, Loss: 0.3122\n",
            "Epoch 27, Batch 300, Loss: 0.3039\n",
            "Validation Loss: -10.1049, Validation Accuracy: 86.48%\n",
            "Epoch 28, Batch 100, Loss: 0.2984\n",
            "Epoch 28, Batch 200, Loss: 0.3047\n",
            "Epoch 28, Batch 300, Loss: 0.3055\n",
            "Validation Loss: -10.3560, Validation Accuracy: 84.92%\n",
            "Epoch 29, Batch 100, Loss: 0.2905\n",
            "Epoch 29, Batch 200, Loss: 0.2898\n",
            "Epoch 29, Batch 300, Loss: 0.3011\n",
            "Validation Loss: -10.3011, Validation Accuracy: 86.14%\n",
            "Epoch 30, Batch 100, Loss: 0.2733\n",
            "Epoch 30, Batch 200, Loss: 0.2909\n",
            "Epoch 30, Batch 300, Loss: 0.3095\n",
            "Validation Loss: -10.3042, Validation Accuracy: 83.28%\n",
            "Epoch 31, Batch 100, Loss: 0.2748\n",
            "Epoch 31, Batch 200, Loss: 0.2903\n",
            "Epoch 31, Batch 300, Loss: 0.2805\n",
            "Validation Loss: -9.8131, Validation Accuracy: 85.58%\n",
            "Epoch 32, Batch 100, Loss: 0.2659\n",
            "Epoch 32, Batch 200, Loss: 0.2846\n",
            "Epoch 32, Batch 300, Loss: 0.2985\n",
            "Validation Loss: -9.8705, Validation Accuracy: 86.58%\n",
            "Epoch 33, Batch 100, Loss: 0.2676\n",
            "Epoch 33, Batch 200, Loss: 0.2738\n",
            "Epoch 33, Batch 300, Loss: 0.2797\n",
            "Validation Loss: -10.2205, Validation Accuracy: 87.44%\n",
            "Epoch 34, Batch 100, Loss: 0.2614\n",
            "Epoch 34, Batch 200, Loss: 0.2814\n",
            "Epoch 34, Batch 300, Loss: 0.2781\n",
            "Validation Loss: -10.5857, Validation Accuracy: 86.36%\n",
            "Epoch 35, Batch 100, Loss: 0.2539\n",
            "Epoch 35, Batch 200, Loss: 0.2643\n",
            "Epoch 35, Batch 300, Loss: 0.2713\n",
            "Validation Loss: -10.4314, Validation Accuracy: 86.84%\n",
            "Epoch 36, Batch 100, Loss: 0.2461\n",
            "Epoch 36, Batch 200, Loss: 0.2702\n",
            "Epoch 36, Batch 300, Loss: 0.2675\n",
            "Validation Loss: -10.4721, Validation Accuracy: 84.54%\n",
            "Epoch 37, Batch 100, Loss: 0.2464\n",
            "Epoch 37, Batch 200, Loss: 0.2556\n",
            "Epoch 37, Batch 300, Loss: 0.2682\n",
            "Validation Loss: -10.8711, Validation Accuracy: 86.20%\n",
            "Epoch 38, Batch 100, Loss: 0.2329\n",
            "Epoch 38, Batch 200, Loss: 0.2632\n",
            "Epoch 38, Batch 300, Loss: 0.2621\n",
            "Validation Loss: -10.8579, Validation Accuracy: 86.84%\n",
            "Epoch 39, Batch 100, Loss: 0.2354\n",
            "Epoch 39, Batch 200, Loss: 0.2499\n",
            "Epoch 39, Batch 300, Loss: 0.2572\n",
            "Validation Loss: -10.4705, Validation Accuracy: 85.30%\n",
            "Epoch 40, Batch 100, Loss: 0.2298\n",
            "Epoch 40, Batch 200, Loss: 0.2647\n",
            "Epoch 40, Batch 300, Loss: 0.2638\n",
            "Validation Loss: -10.7419, Validation Accuracy: 86.74%\n",
            "Epoch 41, Batch 100, Loss: 0.2352\n",
            "Epoch 41, Batch 200, Loss: 0.2447\n",
            "Epoch 41, Batch 300, Loss: 0.2539\n",
            "Validation Loss: -11.0586, Validation Accuracy: 85.10%\n",
            "Epoch 42, Batch 100, Loss: 0.2322\n",
            "Epoch 42, Batch 200, Loss: 0.2452\n",
            "Epoch 42, Batch 300, Loss: 0.2582\n",
            "Validation Loss: -11.1877, Validation Accuracy: 86.04%\n",
            "Epoch 43, Batch 100, Loss: 0.1794\n",
            "Epoch 43, Batch 200, Loss: 0.1510\n",
            "Epoch 43, Batch 300, Loss: 0.1373\n",
            "Validation Loss: -12.2005, Validation Accuracy: 90.60%\n",
            "Epoch 44, Batch 100, Loss: 0.1301\n",
            "Epoch 44, Batch 200, Loss: 0.1250\n",
            "Epoch 44, Batch 300, Loss: 0.1242\n",
            "Validation Loss: -12.4459, Validation Accuracy: 90.86%\n",
            "Epoch 45, Batch 100, Loss: 0.1131\n",
            "Epoch 45, Batch 200, Loss: 0.1196\n",
            "Epoch 45, Batch 300, Loss: 0.1133\n",
            "Validation Loss: -12.8788, Validation Accuracy: 91.04%\n",
            "Epoch 46, Batch 100, Loss: 0.1049\n",
            "Epoch 46, Batch 200, Loss: 0.1077\n",
            "Epoch 46, Batch 300, Loss: 0.0990\n",
            "Validation Loss: -13.0464, Validation Accuracy: 91.04%\n",
            "Epoch 47, Batch 100, Loss: 0.1018\n",
            "Epoch 47, Batch 200, Loss: 0.0999\n",
            "Epoch 47, Batch 300, Loss: 0.0994\n",
            "Validation Loss: -13.2340, Validation Accuracy: 91.08%\n",
            "Epoch 48, Batch 100, Loss: 0.0885\n",
            "Epoch 48, Batch 200, Loss: 0.0915\n",
            "Epoch 48, Batch 300, Loss: 0.0888\n",
            "Validation Loss: -13.6071, Validation Accuracy: 91.38%\n",
            "Epoch 49, Batch 100, Loss: 0.0786\n",
            "Epoch 49, Batch 200, Loss: 0.0820\n",
            "Epoch 49, Batch 300, Loss: 0.0895\n",
            "Validation Loss: -13.7803, Validation Accuracy: 91.42%\n",
            "Epoch 50, Batch 100, Loss: 0.0815\n",
            "Epoch 50, Batch 200, Loss: 0.0855\n",
            "Epoch 50, Batch 300, Loss: 0.0769\n",
            "Validation Loss: -13.6813, Validation Accuracy: 91.44%\n",
            "Epoch 51, Batch 100, Loss: 0.0773\n",
            "Epoch 51, Batch 200, Loss: 0.0743\n",
            "Epoch 51, Batch 300, Loss: 0.0772\n",
            "Validation Loss: -14.2638, Validation Accuracy: 91.26%\n",
            "Epoch 52, Batch 100, Loss: 0.0751\n",
            "Epoch 52, Batch 200, Loss: 0.0747\n",
            "Epoch 52, Batch 300, Loss: 0.0762\n",
            "Validation Loss: -14.3299, Validation Accuracy: 91.38%\n",
            "Epoch 53, Batch 100, Loss: 0.0686\n",
            "Epoch 53, Batch 200, Loss: 0.0725\n",
            "Epoch 53, Batch 300, Loss: 0.0734\n",
            "Validation Loss: -14.5493, Validation Accuracy: 91.54%\n",
            "Epoch 54, Batch 100, Loss: 0.0629\n",
            "Epoch 54, Batch 200, Loss: 0.0672\n",
            "Epoch 54, Batch 300, Loss: 0.0669\n",
            "Validation Loss: -14.7087, Validation Accuracy: 91.38%\n",
            "Epoch 55, Batch 100, Loss: 0.0645\n",
            "Epoch 55, Batch 200, Loss: 0.0684\n",
            "Epoch 55, Batch 300, Loss: 0.0703\n",
            "Validation Loss: -14.9617, Validation Accuracy: 91.26%\n",
            "Epoch 56, Batch 100, Loss: 0.0571\n",
            "Epoch 56, Batch 200, Loss: 0.0618\n",
            "Epoch 56, Batch 300, Loss: 0.0693\n",
            "Validation Loss: -14.8556, Validation Accuracy: 91.44%\n",
            "Epoch 57, Batch 100, Loss: 0.0559\n",
            "Epoch 57, Batch 200, Loss: 0.0627\n",
            "Epoch 57, Batch 300, Loss: 0.0606\n",
            "Validation Loss: -14.8262, Validation Accuracy: 91.18%\n",
            "Epoch 58, Batch 100, Loss: 0.0575\n",
            "Epoch 58, Batch 200, Loss: 0.0616\n",
            "Epoch 58, Batch 300, Loss: 0.0587\n",
            "Validation Loss: -15.3180, Validation Accuracy: 91.50%\n",
            "Epoch 59, Batch 100, Loss: 0.0531\n",
            "Epoch 59, Batch 200, Loss: 0.0548\n",
            "Epoch 59, Batch 300, Loss: 0.0574\n",
            "Validation Loss: -15.0347, Validation Accuracy: 91.20%\n",
            "Epoch 60, Batch 100, Loss: 0.0516\n",
            "Epoch 60, Batch 200, Loss: 0.0550\n",
            "Epoch 60, Batch 300, Loss: 0.0558\n",
            "Validation Loss: -15.2091, Validation Accuracy: 91.42%\n",
            "Epoch 61, Batch 100, Loss: 0.0512\n",
            "Epoch 61, Batch 200, Loss: 0.0520\n",
            "Epoch 61, Batch 300, Loss: 0.0551\n",
            "Validation Loss: -15.2326, Validation Accuracy: 91.26%\n",
            "Epoch 62, Batch 100, Loss: 0.0501\n",
            "Epoch 62, Batch 200, Loss: 0.0484\n",
            "Epoch 62, Batch 300, Loss: 0.0489\n",
            "Validation Loss: -15.3917, Validation Accuracy: 91.44%\n",
            "Epoch 63, Batch 100, Loss: 0.0515\n",
            "Epoch 63, Batch 200, Loss: 0.0506\n",
            "Epoch 63, Batch 300, Loss: 0.0501\n",
            "Validation Loss: -15.4224, Validation Accuracy: 91.14%\n",
            "Epoch 64, Batch 100, Loss: 0.0493\n",
            "Epoch 64, Batch 200, Loss: 0.0469\n",
            "Epoch 64, Batch 300, Loss: 0.0435\n",
            "Validation Loss: -15.8417, Validation Accuracy: 91.08%\n",
            "Early stopping! No improvement for the last 10 epochs.\n"
          ]
        },
        {
          "output_type": "display_data",
          "data": {
            "text/plain": [
              "<Figure size 640x480 with 1 Axes>"
            ],
            "image/png": "[encoded data removed]"
          },
          "metadata": {}
        }
      ],
      "source": [
        "train(model, train_loader, val_loader, use_scheduler=True, patience=10)"
      ]
    },
    {
      "cell_type": "markdown",
      "metadata": {
        "id": "FxcgbLxx1V3m"
      },
      "source": [
        "## Test Model"
      ]
    },
    {
      "cell_type": "code",
      "execution_count": null,
      "metadata": {
        "colab": {
          "base_uri": "https://localhost:8080/"
        },
        "id": "MiRVrgze1V3m",
        "outputId": "e7633684-05d9-461d-ba52-654d385718a2"
      },
      "outputs": [
        {
          "output_type": "stream",
          "name": "stdout",
          "text": [
            "Accuracy for class: plane is 4479/4497 (99.60%)\n",
            "Accuracy for class: car   is 4494/4512 (99.60%)\n",
            "Accuracy for class: bird  is 4494/4535 (99.10%)\n",
            "Accuracy for class: cat   is 4399/4507 (97.60%)\n",
            "Accuracy for class: deer  is 4465/4489 (99.47%)\n",
            "Accuracy for class: dog   is 4386/4497 (97.53%)\n",
            "Accuracy for class: frog  is 4478/4490 (99.73%)\n",
            "Accuracy for class: horse is 4471/4486 (99.67%)\n",
            "Accuracy for class: ship  is 4438/4452 (99.69%)\n",
            "Accuracy for class: truck is 4513/4535 (99.51%)\n",
            "\n",
            "Test set: Average loss: -16.8189, Accuracy: 44617/45000 (99.15%)\n"
          ]
        }
      ],
      "source": [
        "# Train Dataset\n",
        "test(model, train_loader)"
      ]
    },
    {
      "cell_type": "code",
      "execution_count": null,
      "metadata": {
        "colab": {
          "base_uri": "https://localhost:8080/"
        },
        "id": "NFfAUVv01V3m",
        "outputId": "f91fd38c-af51-438c-a349-1371a3a971f2"
      },
      "outputs": [
        {
          "output_type": "stream",
          "name": "stdout",
          "text": [
            "Accuracy for class: plane is 920/1000 (92.00%)\n",
            "Accuracy for class: car   is 949/1000 (94.90%)\n",
            "Accuracy for class: bird  is 897/1000 (89.70%)\n",
            "Accuracy for class: cat   is 789/1000 (78.90%)\n",
            "Accuracy for class: deer  is 919/1000 (91.90%)\n",
            "Accuracy for class: dog   is 830/1000 (83.00%)\n",
            "Accuracy for class: frog  is 946/1000 (94.60%)\n",
            "Accuracy for class: horse is 932/1000 (93.20%)\n",
            "Accuracy for class: ship  is 939/1000 (93.90%)\n",
            "Accuracy for class: truck is 936/1000 (93.60%)\n",
            "\n",
            "Test set: Average loss: -15.7886, Accuracy: 9057/10000 (90.57%)\n"
          ]
        }
      ],
      "source": [
        "# Test Dataset\n",
        "test(model, test_loader)"
      ]
    },
    {
      "cell_type": "markdown",
      "metadata": {
        "id": "nuTWksjL1V3n"
      },
      "source": [
        "## Save Model (Need to move to repo manually)"
      ]
    },
    {
      "cell_type": "code",
      "execution_count": null,
      "metadata": {
        "id": "jDtMEM9V1V3n"
      },
      "outputs": [],
      "source": [
        "save_model(model, \"cifar10_res_net_v2\", CIFAR10_type)"
      ]
    },
    {
      "cell_type": "code",
      "source": [],
      "metadata": {
        "id": "CHOKZhb4zcqg"
      },
      "execution_count": null,
      "outputs": []
    }
  ],
  "metadata": {
    "accelerator": "GPU",
    "colab": {
      "collapsed_sections": [
        "xlT16peOazWH",
        "GF8Vgcpra1Ld",
        "hY-u5crfbBKD",
        "M5JBwxNq1V3j"
      ],
      "provenance": [],
      "toc_visible": true,
      "include_colab_link": true
    },
    "kernelspec": {
      "display_name": "Python 3",
      "name": "python3"
    },
    "language_info": {
      "name": "python"
    }
  },
  "nbformat": 4,
  "nbformat_minor": 0
}