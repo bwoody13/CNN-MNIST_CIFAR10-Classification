{
  "nbformat": 4,
  "nbformat_minor": 0,
  "metadata": {
    "colab": {
      "provenance": [],
      "collapsed_sections": [
        "gU7Yt0LHv9qK",
        "DrsT43MPwEEZ",
        "4wZOddpIHFHL"
      ],
      "gpuType": "T4",
      "toc_visible": true
    },
    "kernelspec": {
      "name": "python3",
      "display_name": "Python 3"
    },
    "language_info": {
      "name": "python"
    },
    "accelerator": "GPU"
  },
  "cells": [
    {
      "cell_type": "code",
      "execution_count": null,
      "metadata": {
        "id": "cbi3tOWEA4MZ"
      },
      "outputs": [],
      "source": [
        "import torch\n",
        "from torch import nn\n",
        "import numpy as np\n",
        "from torchvision import transforms\n",
        "from torchvision.datasets import CIFAR10\n",
        "from torchvision.transforms import ToTensor, Normalize\n",
        "import torch.nn.functional as F\n",
        "import torch.optim as optim\n",
        "from torch.optim.lr_scheduler import StepLR\n",
        "from torch.utils.data.dataloader import DataLoader\n",
        "from torch.utils.data import random_split\n",
        "import matplotlib.pyplot as plt"
      ]
    },
    {
      "cell_type": "code",
      "source": [
        "device = torch.device('cuda:0' if torch.cuda.is_available() else 'cpu')\n",
        "device"
      ],
      "metadata": {
        "colab": {
          "base_uri": "https://localhost:8080/"
        },
        "id": "do2zpgy9C2Iq",
        "outputId": "fa1d15bd-74a1-49e2-b73a-9e26e6b72f39"
      },
      "execution_count": null,
      "outputs": [
        {
          "output_type": "execute_result",
          "data": {
            "text/plain": [
              "device(type='cuda', index=0)"
            ]
          },
          "metadata": {},
          "execution_count": 2
        }
      ]
    },
    {
      "cell_type": "markdown",
      "source": [
        "# Load Dataset for CIFAR"
      ],
      "metadata": {
        "id": "gU7Yt0LHv9qK"
      }
    },
    {
      "cell_type": "code",
      "source": [
        "init_trans = transforms.Compose([\n",
        "    ToTensor(),\n",
        "    Normalize((0.5,0.5, 0.5), (0.5, 0.5, 0.5))\n",
        "])\n",
        "dataset = CIFAR10(root='data/', train=True, download=True, transform=init_trans)\n",
        "test_ds = CIFAR10(root='data/', train=False, download=True, transform=init_trans)"
      ],
      "metadata": {
        "id": "u2OX2fj3VAA9",
        "colab": {
          "base_uri": "https://localhost:8080/"
        },
        "outputId": "a8806129-79db-4d2a-f48d-77aa95373ce2"
      },
      "execution_count": null,
      "outputs": [
        {
          "output_type": "stream",
          "name": "stdout",
          "text": [
            "Downloading https://www.cs.toronto.edu/~kriz/cifar-10-python.tar.gz to data/cifar-10-python.tar.gz\n"
          ]
        },
        {
          "output_type": "stream",
          "name": "stderr",
          "text": [
            "100%|██████████| 170498071/170498071 [00:10<00:00, 15763134.36it/s]\n"
          ]
        },
        {
          "output_type": "stream",
          "name": "stdout",
          "text": [
            "Extracting data/cifar-10-python.tar.gz to data/\n",
            "Files already downloaded and verified\n"
          ]
        }
      ]
    },
    {
      "cell_type": "code",
      "source": [
        "val_size = int(0.1 * len(dataset))\n",
        "train_size = len(dataset) - val_size\n",
        "train_dataset, val_dataset = random_split(dataset, [train_size, val_size])"
      ],
      "metadata": {
        "id": "S64sFf7388J8"
      },
      "execution_count": null,
      "outputs": []
    },
    {
      "cell_type": "code",
      "source": [
        "classes = ('plane', 'car', 'bird', 'cat', 'deer', 'dog', 'frog', 'horse', 'ship', 'truck')"
      ],
      "metadata": {
        "id": "iloQALE7K1II"
      },
      "execution_count": null,
      "outputs": []
    },
    {
      "cell_type": "markdown",
      "source": [
        "# Get visual for data"
      ],
      "metadata": {
        "id": "DrsT43MPwEEZ"
      }
    },
    {
      "cell_type": "code",
      "source": [
        "examples = enumerate(DataLoader(dataset, 16, shuffle=True))\n",
        "batch_idx, (example_data, example_targets) = next(examples)\n",
        "example_data.shape"
      ],
      "metadata": {
        "colab": {
          "base_uri": "https://localhost:8080/"
        },
        "id": "9Q92oZB8nZxC",
        "outputId": "1fedc894-673d-4f4a-bfcb-803b68bdd3b0"
      },
      "execution_count": null,
      "outputs": [
        {
          "output_type": "execute_result",
          "data": {
            "text/plain": [
              "torch.Size([16, 3, 32, 32])"
            ]
          },
          "metadata": {},
          "execution_count": 6
        }
      ]
    },
    {
      "cell_type": "code",
      "source": [
        "fig = plt.figure()\n",
        "for i in range(12):\n",
        "    plt.subplot(3, 4, i+1)\n",
        "    plt.tight_layout()\n",
        "    # Unnoramlize image and transpose (inputs are channel, height, width)\n",
        "    image = example_data[i] * 0.5 + 0.5\n",
        "    image = np.transpose(image, (1, 2, 0))\n",
        "    plt.imshow(image)\n",
        "    plt.title(f\"Label: {classes[example_targets[i]]}\")\n",
        "    plt.xticks([])\n",
        "    plt.yticks([])\n",
        "\n",
        "plt.show()"
      ],
      "metadata": {
        "colab": {
          "base_uri": "https://localhost:8080/"
        },
        "id": "J4SOpF1xngQw",
        "outputId": "103022d8-2eb1-49a4-b341-690113970e43"
      },
      "execution_count": null,
      "outputs": [
        {
          "output_type": "display_data",
          "data": {
            "text/plain": [
              "<Figure size 640x480 with 12 Axes>"
            ],
            "image/png": "[encoded data removed]"
          },
          "metadata": {}
        }
      ]
    },
    {
      "cell_type": "markdown",
      "source": [
        "# Building the CNN"
      ],
      "metadata": {
        "id": "EXNbYgTUwJU8"
      }
    },
    {
      "cell_type": "markdown",
      "source": [
        "## Model"
      ],
      "metadata": {
        "id": "7J-spaQVISQh"
      }
    },
    {
      "cell_type": "code",
      "source": [
        "class MyCNN(nn.Module):\n",
        "    def __init__(\n",
        "        self,\n",
        "        epochs=10,\n",
        "        learning_rate=0.01,\n",
        "        batch_size=64,\n",
        "        weight_decay=0,\n",
        "        momentum=0,\n",
        "        gamma=0.1,\n",
        "        device=None\n",
        "        ):\n",
        "        super(MyCNN, self).__init__()\n",
        "        self.learning_rate = learning_rate\n",
        "        self.epochs = epochs\n",
        "        self.batch_size = batch_size\n",
        "        self.weight_decay = weight_decay\n",
        "        self.momentum = momentum\n",
        "        self.gamma = gamma\n",
        "        self.device = device if device != None else torch.device('cuda:0' if torch.cuda.is_available() else 'cpu')\n",
        "\n",
        "        self.criterion = nn.CrossEntropyLoss()\n",
        "\n",
        "        # Layers\n",
        "        self.conv1 = nn.Sequential(\n",
        "            nn.Conv2d(3, 64, 7, padding=2),\n",
        "            nn.BatchNorm2d(64),\n",
        "            nn.ReLU(),\n",
        "            nn.MaxPool2d(2, 2),\n",
        "        )\n",
        "        self.conv2 = nn.Sequential(\n",
        "            nn.Conv2d(64, 128, 5, padding=2),\n",
        "            nn.BatchNorm2d(128),\n",
        "            nn.ReLU(),\n",
        "        )\n",
        "        self.conv3 = nn.Sequential(\n",
        "            nn.Conv2d(128, 128, 3, padding=1),\n",
        "            nn.BatchNorm2d(128),\n",
        "            nn.ReLU(),\n",
        "        )\n",
        "        self.conv4 = nn.Sequential(\n",
        "            nn.Conv2d(128, 128, 3, padding=1),\n",
        "            nn.BatchNorm2d(128),\n",
        "            nn.ReLU(),\n",
        "        )\n",
        "        self.conv5 = nn.Sequential(\n",
        "            nn.Conv2d(128, 64, 3, padding=1),\n",
        "            nn.BatchNorm2d(64),\n",
        "            nn.ReLU(),\n",
        "            nn.MaxPool2d(2, 2),\n",
        "        )\n",
        "\n",
        "        self.dropout1 = nn.Dropout(0.25)\n",
        "        self.dropout2 = nn.Dropout(0.3)\n",
        "        self.dropout3 = nn.Dropout(0.4)\n",
        "        self.fc1 = nn.Sequential(\n",
        "            nn.Linear(64*7*7, 1024),\n",
        "            nn.ReLU(),\n",
        "            nn.BatchNorm1d(1024),\n",
        "        )\n",
        "        self.fc2 = nn.Sequential(\n",
        "            nn.Linear(1024, 512),\n",
        "            nn.ReLU(),\n",
        "            nn.BatchNorm1d(512),\n",
        "        )\n",
        "        self.fc3 = nn.Sequential(\n",
        "            nn.Linear(512, 256),\n",
        "        )\n",
        "        # self.avgpool = nn.AdaptiveAvgPool2d((1, 1))\n",
        "        self.output = nn.Linear(256, 10)\n",
        "\n",
        "    def forward(self, x):\n",
        "        x = self.conv1(x)\n",
        "        x = self.dropout1(x)\n",
        "        # print(x.shape)\n",
        "        x = self.conv2(x)\n",
        "        # print(x.shape)\n",
        "        x = self.conv3(x)\n",
        "        # print(x.shape)\n",
        "        x = self.conv4(x)\n",
        "        # print(x.shape)\n",
        "        x = self.conv5(x)\n",
        "        # print(x.shape)\n",
        "        x = self.dropout2(x)\n",
        "        x = torch.flatten(x, 1)\n",
        "        x = self.fc1(x)\n",
        "        x = self.dropout3(x)\n",
        "        x = self.fc2(x)\n",
        "        x = self.fc3(x)\n",
        "        # output = F.log_softmax(x, dim=1)\n",
        "        return self.output(x)\n",
        "\n",
        "    def make_optimizer(self):\n",
        "        return optim.SGD(\n",
        "            self.parameters(),\n",
        "            lr=self.learning_rate,\n",
        "            weight_decay=self.weight_decay,\n",
        "            momentum=self.momentum,\n",
        "            nesterov=True,\n",
        "        )\n",
        "\n",
        "    def make_schedule(self, optimizer):\n",
        "        return StepLR(optimizer, step_size=self.epochs//4, gamma=self.gamma)"
      ],
      "metadata": {
        "id": "bLces-Mna9KM"
      },
      "execution_count": null,
      "outputs": []
    },
    {
      "cell_type": "markdown",
      "source": [
        "## Training Functions"
      ],
      "metadata": {
        "id": "96f-3lIGwMkW"
      }
    },
    {
      "cell_type": "markdown",
      "source": [
        "### Validate"
      ],
      "metadata": {
        "id": "4wZOddpIHFHL"
      }
    },
    {
      "cell_type": "code",
      "source": [
        "def validate_model(model: MyCNN, validation_loader: DataLoader, train_loader: DataLoader = None):\n",
        "    model.eval()\n",
        "    validation_loss = 0\n",
        "    correct = 0\n",
        "\n",
        "    with torch.no_grad():\n",
        "        for data, target in validation_loader:\n",
        "            data, target = data.to(model.device), target.to(model.device)\n",
        "            output = model(data)\n",
        "            validation_loss += F.nll_loss(output, target, reduction='sum').item()  # Calculate the validation loss\n",
        "            pred = output.argmax(dim=1, keepdim=True)  # Get the index of the maximum log-probability\n",
        "            correct += pred.eq(target.view_as(pred)).sum().item()  # Count correct predictions\n",
        "\n",
        "    validation_loss /= len(validation_loader.dataset)\n",
        "    accuracy = correct / len(validation_loader.dataset)\n",
        "\n",
        "    return validation_loss, accuracy"
      ],
      "metadata": {
        "id": "GieeRJgAX_HZ"
      },
      "execution_count": null,
      "outputs": []
    },
    {
      "cell_type": "markdown",
      "source": [
        "### Train Loop"
      ],
      "metadata": {
        "id": "Hcx6dx5oHJtv"
      }
    },
    {
      "cell_type": "code",
      "source": [
        "def train(model: MyCNN, train_loader: DataLoader, val_loader: DataLoader, schedule=None):\n",
        "    model.to(model.device)\n",
        "    train_losses = []\n",
        "    train_counter = []\n",
        "\n",
        "    optimizer = model.make_optimizer()\n",
        "    if schedule:\n",
        "        scheduler = model.make_schedule(optimizer)\n",
        "\n",
        "    # For early stopping\n",
        "    best_accuracy = 0.0\n",
        "    earlystop_patience = 5\n",
        "    earlystop_count = 0\n",
        "\n",
        "    # Adding transforms to data to make less dependent on training data\n",
        "    additional_transforms = transforms.Compose([\n",
        "        transforms.RandomHorizontalFlip(),\n",
        "        transforms.RandomCrop(size=32, padding=4),\n",
        "    ])\n",
        "\n",
        "    for epoch in range(model.epochs):\n",
        "        model.train()  # Set the model to training mode\n",
        "        running_loss = 0.0\n",
        "\n",
        "        for i, (inputs, labels) in enumerate(train_loader):\n",
        "            inputs, labels = inputs.to(model.device), labels.to(model.device)\n",
        "\n",
        "            if not inputs.is_cuda:\n",
        "                print(f\"Batch {i}, input-type={inputs.type()}, label-type={labels.type()}, device={model.device}\")\n",
        "\n",
        "            augment_input = additional_transforms(inputs)\n",
        "\n",
        "            # Zero the parameter gradients\n",
        "            optimizer.zero_grad()\n",
        "\n",
        "            # Forward pass\n",
        "            outputs = model(augment_input)\n",
        "\n",
        "            # Calculate the loss\n",
        "            loss = model.criterion(outputs, labels)\n",
        "\n",
        "            # Backpropagation\n",
        "            loss.backward()\n",
        "\n",
        "            # Update the weights\n",
        "            optimizer.step()\n",
        "\n",
        "            # Print statistics\n",
        "            running_loss += loss.item()\n",
        "            if i % 100 == 99:  # Print every 100 batches\n",
        "                print(f'Epoch {epoch + 1}, Batch {i + 1}, Loss: {running_loss / 100:.4f}')\n",
        "                # Store train loss\n",
        "                train_losses.append(running_loss / 100)\n",
        "                train_counter.append(\n",
        "                    epoch + (i / len(train_loader))\n",
        "                )\n",
        "                running_loss = 0.0\n",
        "\n",
        "        if schedule:\n",
        "            scheduler.step()\n",
        "\n",
        "        # Compute Training accuracy\n",
        "        train_loss, train_accuracy = validate_model(model, train_loader)\n",
        "        print(f\"Train Loss: {train_loss:.4f}, Train Accuracy: {train_accuracy * 100:.2f}%\")\n",
        "\n",
        "        # Validation\n",
        "        validation_loss, validation_accuracy = validate_model(model, val_loader)\n",
        "        print(f\"Validation Loss: {validation_loss:.4f}, Validation Accuracy: {validation_accuracy * 100:.2f}%\")\n",
        "\n",
        "        # Check Early Stopping\n",
        "        if validation_accuracy > best_accuracy:\n",
        "            best_accuracy = validation_accuracy\n",
        "            earlystop_count = 0\n",
        "        else:\n",
        "            earlystop_count += 1\n",
        "\n",
        "        if earlystop_count > earlystop_patience:\n",
        "            print(f\"Early stopping! No improvement for the last {earlystop_patience} epochs.\")\n",
        "            break\n",
        "\n",
        "    plt.figure()\n",
        "    plt.plot(train_counter, train_losses, color='blue')\n",
        "    plt.xlabel('Epoch (values between ints indicate batches)')\n",
        "    plt.ylabel('Training Loss')\n",
        "    plt.title('Training Loss vs. Epoch')\n",
        "    plt.show()"
      ],
      "metadata": {
        "id": "3unVMzJUHj2n"
      },
      "execution_count": null,
      "outputs": []
    },
    {
      "cell_type": "markdown",
      "source": [
        "## Testing"
      ],
      "metadata": {
        "id": "yPRCEbQMwRQe"
      }
    },
    {
      "cell_type": "code",
      "source": [
        "def test(model: MyCNN, test_loader: DataLoader, classes):\n",
        "    model.eval()\n",
        "    test_loss = 0\n",
        "    # correct = 0\n",
        "\n",
        "    # For class count predictions\n",
        "    correct_pred = {classname: 0 for classname in classes}\n",
        "    total_pred = {classname: 0 for classname in classes}\n",
        "\n",
        "    with torch.no_grad():\n",
        "        for data, targets in test_loader:\n",
        "            data, targets = data.to(model.device), targets.to(model.device)\n",
        "            output = model(data)\n",
        "            test_loss += F.nll_loss(output, targets, reduction='sum').item()  # Calculate the test loss\n",
        "            preds = output.argmax(dim=1, keepdim=True)  # Get the index of the maximum log-probability\n",
        "            for pred, label in zip(preds, targets):\n",
        "                correct_pred[classes[label]] += pred.eq(label.view_as(pred)).item()  # Count correct predictions\n",
        "                total_pred[classes[label]] += 1\n",
        "\n",
        "    # print accuracy for each class\n",
        "    correct = 0\n",
        "    for classname, correct_count in correct_pred.items():\n",
        "        correct += correct_count\n",
        "        accuracy = 100 * float(correct_count) / total_pred[classname]\n",
        "        print(f'Accuracy for class: {classname:5s} is {correct_count}/{total_pred[classname]} ({accuracy:.2f}%)')\n",
        "\n",
        "    test_loss /= len(test_loader.dataset)\n",
        "    accuracy = 100. * correct / len(test_loader.dataset)\n",
        "    print(f'\\nTest set: Average loss: {test_loss:.4f}, Accuracy: {correct}/{len(test_loader.dataset)} ({accuracy:.2f}%)')"
      ],
      "metadata": {
        "id": "AciYG_voMIV9"
      },
      "execution_count": null,
      "outputs": []
    },
    {
      "cell_type": "markdown",
      "source": [
        "# Running the Model"
      ],
      "metadata": {
        "id": "ag0N885CwTyj"
      }
    },
    {
      "cell_type": "code",
      "source": [
        "model = MyCNN(momentum=0.9, learning_rate=0.1, epochs=50, weight_decay=1e-4, batch_size=128)"
      ],
      "metadata": {
        "id": "hUYawZkehGw-"
      },
      "execution_count": null,
      "outputs": []
    },
    {
      "cell_type": "code",
      "source": [
        "num_workers = 2 if 'cuda' in model.device.type else 0\n",
        "pin_memory = True if 'cuda' in model.device.type else False\n",
        "\n",
        "train_loader = DataLoader(train_dataset, model.batch_size, shuffle=True, num_workers=num_workers, pin_memory=pin_memory)\n",
        "val_loader = DataLoader(val_dataset, model.batch_size, num_workers=num_workers, pin_memory=pin_memory)\n",
        "test_loader = DataLoader(test_ds, model.batch_size, num_workers=num_workers, pin_memory=pin_memory)"
      ],
      "metadata": {
        "id": "nj_s1ZVnyoi6"
      },
      "execution_count": null,
      "outputs": []
    },
    {
      "cell_type": "code",
      "source": [
        "train(model, train_loader, val_loader, schedule=True)"
      ],
      "metadata": {
        "colab": {
          "base_uri": "https://localhost:8080/",
          "height": 1000
        },
        "id": "ZQtw8_Z3PY17",
        "outputId": "e3dcaf7a-5008-45b5-b822-8a7d1279e0ee"
      },
      "execution_count": null,
      "outputs": [
        {
          "output_type": "stream",
          "name": "stdout",
          "text": [
            "Epoch 1, Batch 100, Loss: 1.9477\n",
            "Epoch 1, Batch 200, Loss: 1.6713\n",
            "Epoch 1, Batch 300, Loss: 1.6057\n",
            "Train Loss: -2.3486, Train Accuracy: 43.31%\n",
            "Validation Loss: -2.3359, Validation Accuracy: 43.18%\n",
            "Epoch 2, Batch 100, Loss: 1.4871\n",
            "Epoch 2, Batch 200, Loss: 1.4134\n",
            "Epoch 2, Batch 300, Loss: 1.3384\n",
            "Train Loss: -3.2611, Train Accuracy: 56.82%\n",
            "Validation Loss: -3.2214, Validation Accuracy: 56.22%\n",
            "Epoch 3, Batch 100, Loss: 1.2367\n",
            "Epoch 3, Batch 200, Loss: 1.1840\n",
            "Epoch 3, Batch 300, Loss: 1.1832\n",
            "Train Loss: -3.9096, Train Accuracy: 61.80%\n",
            "Validation Loss: -3.8749, Validation Accuracy: 61.76%\n",
            "Epoch 4, Batch 100, Loss: 1.0971\n",
            "Epoch 4, Batch 200, Loss: 1.0596\n",
            "Epoch 4, Batch 300, Loss: 1.0597\n",
            "Train Loss: -4.3726, Train Accuracy: 69.05%\n",
            "Validation Loss: -4.3169, Validation Accuracy: 68.36%\n",
            "Epoch 5, Batch 100, Loss: 0.9821\n",
            "Epoch 5, Batch 200, Loss: 0.9770\n",
            "Epoch 5, Batch 300, Loss: 0.9521\n",
            "Train Loss: -4.8203, Train Accuracy: 73.00%\n",
            "Validation Loss: -4.7193, Validation Accuracy: 71.88%\n",
            "Epoch 6, Batch 100, Loss: 0.9193\n",
            "Epoch 6, Batch 200, Loss: 0.9151\n",
            "Epoch 6, Batch 300, Loss: 0.8710\n",
            "Train Loss: -5.1922, Train Accuracy: 74.30%\n",
            "Validation Loss: -5.0936, Validation Accuracy: 72.26%\n",
            "Epoch 7, Batch 100, Loss: 0.8491\n",
            "Epoch 7, Batch 200, Loss: 0.8377\n",
            "Epoch 7, Batch 300, Loss: 0.8140\n",
            "Train Loss: -4.8478, Train Accuracy: 75.57%\n",
            "Validation Loss: -4.7531, Validation Accuracy: 73.62%\n",
            "Epoch 8, Batch 100, Loss: 0.7908\n",
            "Epoch 8, Batch 200, Loss: 0.7786\n",
            "Epoch 8, Batch 300, Loss: 0.7857\n",
            "Train Loss: -5.3033, Train Accuracy: 74.02%\n",
            "Validation Loss: -5.2312, Validation Accuracy: 72.08%\n",
            "Epoch 9, Batch 100, Loss: 0.7473\n",
            "Epoch 9, Batch 200, Loss: 0.7505\n",
            "Epoch 9, Batch 300, Loss: 0.7543\n",
            "Train Loss: -5.9091, Train Accuracy: 78.22%\n",
            "Validation Loss: -5.8152, Validation Accuracy: 76.06%\n",
            "Epoch 10, Batch 100, Loss: 0.7213\n",
            "Epoch 10, Batch 200, Loss: 0.7113\n",
            "Epoch 10, Batch 300, Loss: 0.7121\n",
            "Train Loss: -5.7427, Train Accuracy: 79.93%\n",
            "Validation Loss: -5.6382, Validation Accuracy: 78.32%\n",
            "Epoch 11, Batch 100, Loss: 0.6759\n",
            "Epoch 11, Batch 200, Loss: 0.6942\n",
            "Epoch 11, Batch 300, Loss: 0.6969\n",
            "Train Loss: -6.1571, Train Accuracy: 80.16%\n",
            "Validation Loss: -6.0140, Validation Accuracy: 76.96%\n",
            "Epoch 12, Batch 100, Loss: 0.6473\n",
            "Epoch 12, Batch 200, Loss: 0.6468\n",
            "Epoch 12, Batch 300, Loss: 0.6856\n",
            "Train Loss: -5.9811, Train Accuracy: 82.51%\n",
            "Validation Loss: -5.8661, Validation Accuracy: 79.74%\n",
            "Epoch 13, Batch 100, Loss: 0.5803\n",
            "Epoch 13, Batch 200, Loss: 0.5315\n",
            "Epoch 13, Batch 300, Loss: 0.5224\n",
            "Train Loss: -7.2983, Train Accuracy: 86.99%\n",
            "Validation Loss: -7.1258, Validation Accuracy: 83.62%\n",
            "Epoch 14, Batch 100, Loss: 0.5035\n",
            "Epoch 14, Batch 200, Loss: 0.4852\n",
            "Epoch 14, Batch 300, Loss: 0.5172\n",
            "Train Loss: -7.5358, Train Accuracy: 87.76%\n",
            "Validation Loss: -7.3377, Validation Accuracy: 84.22%\n",
            "Epoch 15, Batch 100, Loss: 0.4975\n",
            "Epoch 15, Batch 200, Loss: 0.4883\n",
            "Epoch 15, Batch 300, Loss: 0.5132\n",
            "Train Loss: -7.3616, Train Accuracy: 87.82%\n",
            "Validation Loss: -7.1587, Validation Accuracy: 83.72%\n",
            "Epoch 16, Batch 100, Loss: 0.4684\n",
            "Epoch 16, Batch 200, Loss: 0.4793\n",
            "Epoch 16, Batch 300, Loss: 0.4723\n",
            "Train Loss: -7.5446, Train Accuracy: 88.36%\n",
            "Validation Loss: -7.3310, Validation Accuracy: 84.62%\n",
            "Epoch 17, Batch 100, Loss: 0.4829\n",
            "Epoch 17, Batch 200, Loss: 0.4638\n",
            "Epoch 17, Batch 300, Loss: 0.4504\n",
            "Train Loss: -7.7865, Train Accuracy: 88.33%\n",
            "Validation Loss: -7.5578, Validation Accuracy: 84.40%\n",
            "Epoch 18, Batch 100, Loss: 0.4526\n",
            "Epoch 18, Batch 200, Loss: 0.4403\n",
            "Epoch 18, Batch 300, Loss: 0.4634\n",
            "Train Loss: -8.0363, Train Accuracy: 89.18%\n",
            "Validation Loss: -7.7890, Validation Accuracy: 84.96%\n",
            "Epoch 19, Batch 100, Loss: 0.4537\n",
            "Epoch 19, Batch 200, Loss: 0.4391\n",
            "Epoch 19, Batch 300, Loss: 0.4441\n",
            "Train Loss: -7.9461, Train Accuracy: 89.56%\n",
            "Validation Loss: -7.6887, Validation Accuracy: 85.08%\n",
            "Epoch 20, Batch 100, Loss: 0.4372\n",
            "Epoch 20, Batch 200, Loss: 0.4400\n",
            "Epoch 20, Batch 300, Loss: 0.4514\n",
            "Train Loss: -7.9643, Train Accuracy: 89.37%\n",
            "Validation Loss: -7.7020, Validation Accuracy: 85.12%\n",
            "Epoch 21, Batch 100, Loss: 0.4391\n",
            "Epoch 21, Batch 200, Loss: 0.4261\n",
            "Epoch 21, Batch 300, Loss: 0.4370\n",
            "Train Loss: -8.0591, Train Accuracy: 89.44%\n",
            "Validation Loss: -7.7841, Validation Accuracy: 84.88%\n",
            "Epoch 22, Batch 100, Loss: 0.4273\n",
            "Epoch 22, Batch 200, Loss: 0.4455\n",
            "Epoch 22, Batch 300, Loss: 0.4374\n",
            "Train Loss: -7.9209, Train Accuracy: 89.94%\n",
            "Validation Loss: -7.6425, Validation Accuracy: 85.02%\n",
            "Epoch 23, Batch 100, Loss: 0.4230\n",
            "Epoch 23, Batch 200, Loss: 0.4169\n",
            "Epoch 23, Batch 300, Loss: 0.4122\n",
            "Train Loss: -8.3103, Train Accuracy: 90.17%\n",
            "Validation Loss: -8.0310, Validation Accuracy: 85.46%\n",
            "Epoch 24, Batch 100, Loss: 0.3995\n",
            "Epoch 24, Batch 200, Loss: 0.4218\n",
            "Epoch 24, Batch 300, Loss: 0.4260\n",
            "Train Loss: -8.0574, Train Accuracy: 90.27%\n",
            "Validation Loss: -7.7604, Validation Accuracy: 85.18%\n",
            "Epoch 25, Batch 100, Loss: 0.3970\n",
            "Epoch 25, Batch 200, Loss: 0.3872\n",
            "Epoch 25, Batch 300, Loss: 0.3820\n",
            "Train Loss: -8.3932, Train Accuracy: 91.12%\n",
            "Validation Loss: -8.0824, Validation Accuracy: 86.04%\n",
            "Epoch 26, Batch 100, Loss: 0.3770\n",
            "Epoch 26, Batch 200, Loss: 0.3768\n",
            "Epoch 26, Batch 300, Loss: 0.3870\n",
            "Train Loss: -8.4783, Train Accuracy: 91.07%\n",
            "Validation Loss: -8.1677, Validation Accuracy: 86.06%\n",
            "Epoch 27, Batch 100, Loss: 0.3943\n",
            "Epoch 27, Batch 200, Loss: 0.3825\n",
            "Epoch 27, Batch 300, Loss: 0.3899\n",
            "Train Loss: -8.4768, Train Accuracy: 91.18%\n",
            "Validation Loss: -8.1624, Validation Accuracy: 85.96%\n",
            "Epoch 28, Batch 100, Loss: 0.3816\n",
            "Epoch 28, Batch 200, Loss: 0.3727\n",
            "Epoch 28, Batch 300, Loss: 0.3811\n",
            "Train Loss: -8.5321, Train Accuracy: 91.29%\n",
            "Validation Loss: -8.2134, Validation Accuracy: 86.28%\n",
            "Epoch 29, Batch 100, Loss: 0.3881\n",
            "Epoch 29, Batch 200, Loss: 0.3775\n",
            "Epoch 29, Batch 300, Loss: 0.3821\n",
            "Train Loss: -8.4021, Train Accuracy: 91.30%\n",
            "Validation Loss: -8.0871, Validation Accuracy: 85.98%\n",
            "Epoch 30, Batch 100, Loss: 0.3692\n",
            "Epoch 30, Batch 200, Loss: 0.3792\n",
            "Epoch 30, Batch 300, Loss: 0.3816\n",
            "Train Loss: -8.5856, Train Accuracy: 91.30%\n",
            "Validation Loss: -8.2618, Validation Accuracy: 85.90%\n",
            "Epoch 31, Batch 100, Loss: 0.3566\n",
            "Epoch 31, Batch 200, Loss: 0.3727\n",
            "Epoch 31, Batch 300, Loss: 0.3704\n",
            "Train Loss: -8.6294, Train Accuracy: 91.31%\n",
            "Validation Loss: -8.3037, Validation Accuracy: 86.04%\n",
            "Epoch 32, Batch 100, Loss: 0.3813\n",
            "Epoch 32, Batch 200, Loss: 0.3892\n",
            "Epoch 32, Batch 300, Loss: 0.3609\n",
            "Train Loss: -8.6821, Train Accuracy: 91.61%\n",
            "Validation Loss: -8.3519, Validation Accuracy: 86.44%\n",
            "Epoch 33, Batch 100, Loss: 0.3856\n",
            "Epoch 33, Batch 200, Loss: 0.3650\n",
            "Epoch 33, Batch 300, Loss: 0.3739\n",
            "Train Loss: -8.7902, Train Accuracy: 91.44%\n",
            "Validation Loss: -8.4530, Validation Accuracy: 86.06%\n",
            "Epoch 34, Batch 100, Loss: 0.3700\n",
            "Epoch 34, Batch 200, Loss: 0.3799\n",
            "Epoch 34, Batch 300, Loss: 0.3751\n",
            "Train Loss: -8.6730, Train Accuracy: 91.55%\n",
            "Validation Loss: -8.3374, Validation Accuracy: 86.10%\n",
            "Epoch 35, Batch 100, Loss: 0.3711\n",
            "Epoch 35, Batch 200, Loss: 0.3645\n",
            "Epoch 35, Batch 300, Loss: 0.3813\n",
            "Train Loss: -8.6776, Train Accuracy: 91.63%\n",
            "Validation Loss: -8.3446, Validation Accuracy: 85.98%\n",
            "Epoch 36, Batch 100, Loss: 0.3741\n",
            "Epoch 36, Batch 200, Loss: 0.3780\n",
            "Epoch 36, Batch 300, Loss: 0.3775\n",
            "Train Loss: -8.7510, Train Accuracy: 91.54%\n",
            "Validation Loss: -8.4152, Validation Accuracy: 86.24%\n",
            "Epoch 37, Batch 100, Loss: 0.3717\n",
            "Epoch 37, Batch 200, Loss: 0.3554\n",
            "Epoch 37, Batch 300, Loss: 0.3613\n",
            "Train Loss: -8.6695, Train Accuracy: 91.73%\n",
            "Validation Loss: -8.3368, Validation Accuracy: 86.12%\n",
            "Epoch 38, Batch 100, Loss: 0.3618\n",
            "Epoch 38, Batch 200, Loss: 0.3675\n",
            "Epoch 38, Batch 300, Loss: 0.3763\n",
            "Train Loss: -8.7092, Train Accuracy: 91.62%\n",
            "Validation Loss: -8.3758, Validation Accuracy: 86.16%\n",
            "Early stopping! No improvement for the last 5 epochs.\n"
          ]
        },
        {
          "output_type": "display_data",
          "data": {
            "text/plain": [
              "<Figure size 640x480 with 1 Axes>"
            ],
            "image/png": "[encoded data removed]"
          },
          "metadata": {}
        }
      ]
    },
    {
      "cell_type": "code",
      "source": [
        "test(model, train_loader, classes)"
      ],
      "metadata": {
        "colab": {
          "base_uri": "https://localhost:8080/"
        },
        "id": "ynQd-rGugC3k",
        "outputId": "e587b52e-71a6-4c88-991d-dafcd978b43f"
      },
      "execution_count": null,
      "outputs": [
        {
          "output_type": "stream",
          "name": "stdout",
          "text": [
            "Accuracy for class: plane is 4190/4506 (92.99%)\n",
            "Accuracy for class: car   is 4341/4490 (96.68%)\n",
            "Accuracy for class: bird  is 3976/4492 (88.51%)\n",
            "Accuracy for class: cat   is 3390/4502 (75.30%)\n",
            "Accuracy for class: deer  is 4185/4501 (92.98%)\n",
            "Accuracy for class: dog   is 3871/4521 (85.62%)\n",
            "Accuracy for class: frog  is 4314/4510 (95.65%)\n",
            "Accuracy for class: horse is 4261/4484 (95.03%)\n",
            "Accuracy for class: ship  is 4370/4505 (97.00%)\n",
            "Accuracy for class: truck is 4333/4489 (96.52%)\n",
            "\n",
            "Test set: Average loss: -8.7092, Accuracy: 41231/45000 (91.62%)\n"
          ]
        }
      ]
    },
    {
      "cell_type": "code",
      "source": [
        "test(model, test_loader, classes)"
      ],
      "metadata": {
        "colab": {
          "base_uri": "https://localhost:8080/"
        },
        "id": "kWqy59pDPaKS",
        "outputId": "55c505fb-ca52-4967-adb3-e86d19d41ebd"
      },
      "execution_count": null,
      "outputs": [
        {
          "output_type": "stream",
          "name": "stdout",
          "text": [
            "Accuracy for class: plane is 858/1000 (85.80%)\n",
            "Accuracy for class: car   is 932/1000 (93.20%)\n",
            "Accuracy for class: bird  is 801/1000 (80.10%)\n",
            "Accuracy for class: cat   is 633/1000 (63.30%)\n",
            "Accuracy for class: deer  is 870/1000 (87.00%)\n",
            "Accuracy for class: dog   is 803/1000 (80.30%)\n",
            "Accuracy for class: frog  is 922/1000 (92.20%)\n",
            "Accuracy for class: horse is 901/1000 (90.10%)\n",
            "Accuracy for class: ship  is 920/1000 (92.00%)\n",
            "Accuracy for class: truck is 924/1000 (92.40%)\n",
            "\n",
            "Test set: Average loss: -8.3799, Accuracy: 8564/10000 (85.64%)\n"
          ]
        }
      ]
    },
    {
      "cell_type": "markdown",
      "source": [],
      "metadata": {
        "id": "zgXya1qEhIWg"
      }
    },
    {
      "cell_type": "markdown",
      "source": [
        "# Saving / Reloading Model"
      ],
      "metadata": {
        "id": "i9AczvwUwc_M"
      }
    },
    {
      "cell_type": "code",
      "source": [
        "# Note parent dir must exist and you must mount to drive to save this way.\n",
        "# You can just save to root and it will make a tmp file if you do not want to mount drive and set up additional files\n",
        "def save_model(model, name, parent_dir=\"drive/MyDrive/Colab Notebooks/CIFAR10/models\"):\n",
        "    torch.save(model, f\"{parent_dir}/{name}.pth\")"
      ],
      "metadata": {
        "id": "q6YLppS6wche"
      },
      "execution_count": null,
      "outputs": []
    },
    {
      "cell_type": "code",
      "source": [
        "def load_model(name, parent_dir=\"drive/MyDrive/Colab Notebooks/CIFAR10/models\"):\n",
        "    model = torch.load(f\"{parent_dir}/{name}.pth\")\n",
        "    model.eval()\n",
        "    return model"
      ],
      "metadata": {
        "id": "xvUy-FAUwvCn"
      },
      "execution_count": null,
      "outputs": []
    },
    {
      "cell_type": "code",
      "source": [
        "save_model(model, \"85_64-Test\")"
      ],
      "metadata": {
        "id": "6RYRE8cKxrVT"
      },
      "execution_count": null,
      "outputs": []
    },
    {
      "cell_type": "code",
      "source": [
        "model = load_model(\"85_64-Test\")"
      ],
      "metadata": {
        "id": "FxvSRDvZxvRA"
      },
      "execution_count": null,
      "outputs": []
    },
    {
      "cell_type": "code",
      "source": [],
      "metadata": {
        "id": "f2o6ahjGyILg"
      },
      "execution_count": null,
      "outputs": []
    }
  ]
}